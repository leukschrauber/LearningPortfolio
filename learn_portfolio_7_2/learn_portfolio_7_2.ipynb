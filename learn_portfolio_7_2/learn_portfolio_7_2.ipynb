{
  "nbformat": 4,
  "nbformat_minor": 0,
  "metadata": {
    "colab": {
      "provenance": [],
      "toc_visible": true,
      "include_colab_link": true
    },
    "kernelspec": {
      "name": "python3",
      "display_name": "Python 3"
    },
    "language_info": {
      "name": "python"
    },
    "gpuClass": "standard"
  },
  "cells": [
    {
      "cell_type": "markdown",
      "metadata": {
        "id": "view-in-github",
        "colab_type": "text"
      },
      "source": [
        "<a href=\"https://colab.research.google.com/github/leukschrauber/LearningPortfolio/blob/main/learn_portfolio_7_2/learn_portfolio_7_2.ipynb\" target=\"_parent\"><img src=\"https://colab.research.google.com/assets/colab-badge.svg\" alt=\"Open In Colab\"/></a>"
      ]
    },
    {
      "cell_type": "markdown",
      "source": [
        "# Learning Portfolio\n",
        "*by Fabian Leuk (csba6437/12215478)*"
      ],
      "metadata": {
        "id": "m38ZeRwm7Kjb"
      }
    },
    {
      "cell_type": "markdown",
      "source": [
        "## Session 7: Recommender Systems\n",
        "\n",
        "In this week's assignment, I have chosen the Jester-Dataset, which comprises ratings of around 25.000 users for 100 jokes. The dataset can be downloaded [here](https://eigentaste.berkeley.edu/dataset/jester_dataset_1_1.zip), the corresponding jokes can be downloaded [here](https://eigentaste.berkeley.edu/dataset/jester_dataset_1_joke_texts.zip) in order to build a Recommender System. \n",
        "\n",
        "I have extended the knowledge gained from the presented materials by actually calculating recommendations for the users included in the dataset. As the calculation was not given in the fastAI course, as well as in the other videos we were supposed to watch, I will elaborate on the calculation in this Learning Portfolio."
      ],
      "metadata": {
        "id": "ij5PIbLw3Yg9"
      }
    },
    {
      "cell_type": "markdown",
      "source": [
        "### Key Learnings\n",
        "\n",
        "\n",
        "\n",
        "\n",
        "*   HTML Content can be easily processed with Python using regex matching and BeautifulSoup\n",
        "*   Data can be transformed from wide format to long format using pd.melt()\n",
        "*   Negative rating data needs a custom loss function when training with fastAI\n",
        "*   Hyperparameter tuning was challenging to do this time. Most often, the defaults of fastAI worked best.\n",
        "*   A neural net could net outperform the classic matrix recommender system during validation\n",
        "*   export() and load_learner() can be used to save and retrieve trained models\n",
        "*   **How to use cosine similarity, broadcasting and vector multiplication to actually make recommendations for a user.**\n",
        "*   A user should not be recommended items that he already saw.\n",
        "*   Adding a new user to the system requires new training, so the user embedding for the user can be generated.\n",
        "*  torch.topk can be used to find the highest k numbers inside a pytorch tensor\n",
        "\n",
        "\n",
        "\n",
        "\n"
      ],
      "metadata": {
        "id": "yLsAHJezDknH"
      }
    },
    {
      "cell_type": "markdown",
      "source": [
        "### Application: Giving recommendations based on a trained model\n"
      ],
      "metadata": {
        "id": "PcfmAFxi82MB"
      }
    },
    {
      "cell_type": "markdown",
      "source": [
        "#### Data preparation"
      ],
      "metadata": {
        "id": "ny78Sxa9aDnl"
      }
    },
    {
      "cell_type": "code",
      "source": [
        "!pip install bs4\n",
        "import pandas as pd\n",
        "import numpy as np\n",
        "from google.colab import drive\n",
        "drive.mount('/content/gdrive', force_remount=True)\n",
        "import os\n",
        "import re\n",
        "from bs4 import BeautifulSoup\n",
        "from fastai.collab import *\n",
        "from fastai.tabular.all import *\n",
        "set_seed(42)"
      ],
      "metadata": {
        "colab": {
          "base_uri": "https://localhost:8080/"
        },
        "id": "bH6Ix-JoZAx_",
        "outputId": "4eb3217a-fc8a-4000-813c-20d1391b8973"
      },
      "execution_count": 1,
      "outputs": [
        {
          "output_type": "stream",
          "name": "stdout",
          "text": [
            "Looking in indexes: https://pypi.org/simple, https://us-python.pkg.dev/colab-wheels/public/simple/\n",
            "Collecting bs4\n",
            "  Downloading bs4-0.0.1.tar.gz (1.1 kB)\n",
            "  Preparing metadata (setup.py) ... \u001b[?25l\u001b[?25hdone\n",
            "Requirement already satisfied: beautifulsoup4 in /usr/local/lib/python3.10/dist-packages (from bs4) (4.11.2)\n",
            "Requirement already satisfied: soupsieve>1.2 in /usr/local/lib/python3.10/dist-packages (from beautifulsoup4->bs4) (2.4.1)\n",
            "Building wheels for collected packages: bs4\n",
            "  Building wheel for bs4 (setup.py) ... \u001b[?25l\u001b[?25hdone\n",
            "  Created wheel for bs4: filename=bs4-0.0.1-py3-none-any.whl size=1257 sha256=5fbc9f3773db57e0fa2a2deaf255eae5075bd482aa87441ef9219a721c7c8ee0\n",
            "  Stored in directory: /root/.cache/pip/wheels/25/42/45/b773edc52acb16cd2db4cf1a0b47117e2f69bb4eb300ed0e70\n",
            "Successfully built bs4\n",
            "Installing collected packages: bs4\n",
            "Successfully installed bs4-0.0.1\n",
            "Mounted at /content/gdrive\n"
          ]
        }
      ]
    },
    {
      "cell_type": "markdown",
      "source": [
        "We start by extracting the actual jokes from the jokes-html files. While this not necessary for our results, it certainly is more \"fun\" while interpreting the results.\n",
        "\n",
        "The texts were given in HTML-Files, so we use regex matching and Beautiful Soup to remove all of the HTML-Tags and give us the raw jokes out of the HTML.\n",
        "\n",
        "Wrap that inside a pandas Dataframe assigning a 0-based index as an id and we can work with it later."
      ],
      "metadata": {
        "id": "W32Xr7TAaIJG"
      }
    },
    {
      "cell_type": "code",
      "source": [
        "joke_text_files = '/content/gdrive/My Drive/SE_Digital_Organizations/jokes'\n",
        "joke_ratings_file = '/content/gdrive/My Drive/SE_Digital_Organizations/jester-data-1.xls'\n",
        "\n",
        "# Function to extract joke text from html file and remove remaining HTML tags\n",
        "def extract_joke_from_file(file_path):\n",
        "    with open(file_path, \"r\") as file:\n",
        "        html = file.read()\n",
        "\n",
        "    pattern = r\"<!--begin of joke -->(.*?)<!--end of joke -->\"\n",
        "    matches = re.findall(pattern, html, re.DOTALL)\n",
        "\n",
        "    cleaned_jokes = []\n",
        "    for joke in matches:\n",
        "        soup = BeautifulSoup(joke, \"html.parser\")\n",
        "        cleaned_joke = soup.get_text()\n",
        "        cleaned_jokes.append(cleaned_joke)\n",
        "\n",
        "    return cleaned_jokes\n",
        "\n",
        "# Iterate over files in directory, sort by joke number and add to dataframe\n",
        "html_files = [file_name for file_name in os.listdir(joke_text_files) if file_name.endswith(\".html\")]\n",
        "html_files.sort(key=lambda x: int(re.search(r\"\\d+\", x).group()))\n",
        "jokes_list = []\n",
        "for file_name in html_files:\n",
        "    file_path = os.path.join(joke_text_files, file_name)\n",
        "    jokes = extract_joke_from_file(file_path)\n",
        "\n",
        "    if jokes:\n",
        "        jokes_list.extend(jokes)\n",
        "\n",
        "joke_text_df = pd.DataFrame({\"joke_text\": jokes_list})\n",
        "joke_text_df = joke_text_df.reset_index().rename(columns={'index': 'joke_id'})\n",
        "joke_text_df.head(5)"
      ],
      "metadata": {
        "colab": {
          "base_uri": "https://localhost:8080/",
          "height": 267
        },
        "id": "5Ropcf8nZFe5",
        "outputId": "071d2388-64b5-429f-f544-6a7d1c147480"
      },
      "execution_count": 4,
      "outputs": [
        {
          "output_type": "execute_result",
          "data": {
            "text/plain": [
              "   joke_id  \\\n",
              "0        0   \n",
              "1        1   \n",
              "2        2   \n",
              "3        3   \n",
              "4        4   \n",
              "\n",
              "                                                                                                                                                                                                                                                                                                                                                                                                    joke_text  \n",
              "0                                                                                                                                                                                                                                    \\nA man visits the doctor. The doctor says \"I have bad news for you.You have\\ncancer and Alzheimer's disease\". \\nThe man replies \"Well,thank God I don't have cancer!\"\\n  \n",
              "1  \\nThis couple had an excellent relationship going until one day he came home\\nfrom work to find his girlfriend packing. He asked her why she was leaving him\\nand she told him that she had heard awful things about him. \\n\\n\"What could they possibly have said to make you move out?\" \\n\\n\"They told me that you were a pedophile.\" \\n\\nHe replied, \"That's an awfully big word for a ten year old.\" \\n  \n",
              "2                                                                                                                                                                                                                                                                                                               \\nQ. What's 200 feet long and has 4 teeth? \\n\\nA. The front row at a Willie Nelson Concert.\\n  \n",
              "3                                                                                                                                                                                                                                                                                        \\nQ. What's the difference between a man and a toilet? \\n\\nA. A toilet doesn't follow you around after you use it.\\n  \n",
              "4                                                                                                                                                                                                                                                                                                       \\nQ.\\tWhat's O. J. Simpson's Internet address? \\nA.\\tSlash, slash, backslash, slash, slash, escape.\\n  "
            ],
            "text/html": [
              "\n",
              "  <div id=\"df-0a70eee0-4621-4b3f-a27e-5609dc810fc7\">\n",
              "    <div class=\"colab-df-container\">\n",
              "      <div>\n",
              "<style scoped>\n",
              "    .dataframe tbody tr th:only-of-type {\n",
              "        vertical-align: middle;\n",
              "    }\n",
              "\n",
              "    .dataframe tbody tr th {\n",
              "        vertical-align: top;\n",
              "    }\n",
              "\n",
              "    .dataframe thead th {\n",
              "        text-align: right;\n",
              "    }\n",
              "</style>\n",
              "<table border=\"1\" class=\"dataframe\">\n",
              "  <thead>\n",
              "    <tr style=\"text-align: right;\">\n",
              "      <th></th>\n",
              "      <th>joke_id</th>\n",
              "      <th>joke_text</th>\n",
              "    </tr>\n",
              "  </thead>\n",
              "  <tbody>\n",
              "    <tr>\n",
              "      <th>0</th>\n",
              "      <td>0</td>\n",
              "      <td>\\nA man visits the doctor. The doctor says \"I have bad news for you.You have\\ncancer and Alzheimer's disease\". \\nThe man replies \"Well,thank God I don't have cancer!\"\\n</td>\n",
              "    </tr>\n",
              "    <tr>\n",
              "      <th>1</th>\n",
              "      <td>1</td>\n",
              "      <td>\\nThis couple had an excellent relationship going until one day he came home\\nfrom work to find his girlfriend packing. He asked her why she was leaving him\\nand she told him that she had heard awful things about him. \\n\\n\"What could they possibly have said to make you move out?\" \\n\\n\"They told me that you were a pedophile.\" \\n\\nHe replied, \"That's an awfully big word for a ten year old.\" \\n</td>\n",
              "    </tr>\n",
              "    <tr>\n",
              "      <th>2</th>\n",
              "      <td>2</td>\n",
              "      <td>\\nQ. What's 200 feet long and has 4 teeth? \\n\\nA. The front row at a Willie Nelson Concert.\\n</td>\n",
              "    </tr>\n",
              "    <tr>\n",
              "      <th>3</th>\n",
              "      <td>3</td>\n",
              "      <td>\\nQ. What's the difference between a man and a toilet? \\n\\nA. A toilet doesn't follow you around after you use it.\\n</td>\n",
              "    </tr>\n",
              "    <tr>\n",
              "      <th>4</th>\n",
              "      <td>4</td>\n",
              "      <td>\\nQ.\\tWhat's O. J. Simpson's Internet address? \\nA.\\tSlash, slash, backslash, slash, slash, escape.\\n</td>\n",
              "    </tr>\n",
              "  </tbody>\n",
              "</table>\n",
              "</div>\n",
              "      <button class=\"colab-df-convert\" onclick=\"convertToInteractive('df-0a70eee0-4621-4b3f-a27e-5609dc810fc7')\"\n",
              "              title=\"Convert this dataframe to an interactive table.\"\n",
              "              style=\"display:none;\">\n",
              "        \n",
              "  <svg xmlns=\"http://www.w3.org/2000/svg\" height=\"24px\"viewBox=\"0 0 24 24\"\n",
              "       width=\"24px\">\n",
              "    <path d=\"M0 0h24v24H0V0z\" fill=\"none\"/>\n",
              "    <path d=\"M18.56 5.44l.94 2.06.94-2.06 2.06-.94-2.06-.94-.94-2.06-.94 2.06-2.06.94zm-11 1L8.5 8.5l.94-2.06 2.06-.94-2.06-.94L8.5 2.5l-.94 2.06-2.06.94zm10 10l.94 2.06.94-2.06 2.06-.94-2.06-.94-.94-2.06-.94 2.06-2.06.94z\"/><path d=\"M17.41 7.96l-1.37-1.37c-.4-.4-.92-.59-1.43-.59-.52 0-1.04.2-1.43.59L10.3 9.45l-7.72 7.72c-.78.78-.78 2.05 0 2.83L4 21.41c.39.39.9.59 1.41.59.51 0 1.02-.2 1.41-.59l7.78-7.78 2.81-2.81c.8-.78.8-2.07 0-2.86zM5.41 20L4 18.59l7.72-7.72 1.47 1.35L5.41 20z\"/>\n",
              "  </svg>\n",
              "      </button>\n",
              "      \n",
              "  <style>\n",
              "    .colab-df-container {\n",
              "      display:flex;\n",
              "      flex-wrap:wrap;\n",
              "      gap: 12px;\n",
              "    }\n",
              "\n",
              "    .colab-df-convert {\n",
              "      background-color: #E8F0FE;\n",
              "      border: none;\n",
              "      border-radius: 50%;\n",
              "      cursor: pointer;\n",
              "      display: none;\n",
              "      fill: #1967D2;\n",
              "      height: 32px;\n",
              "      padding: 0 0 0 0;\n",
              "      width: 32px;\n",
              "    }\n",
              "\n",
              "    .colab-df-convert:hover {\n",
              "      background-color: #E2EBFA;\n",
              "      box-shadow: 0px 1px 2px rgba(60, 64, 67, 0.3), 0px 1px 3px 1px rgba(60, 64, 67, 0.15);\n",
              "      fill: #174EA6;\n",
              "    }\n",
              "\n",
              "    [theme=dark] .colab-df-convert {\n",
              "      background-color: #3B4455;\n",
              "      fill: #D2E3FC;\n",
              "    }\n",
              "\n",
              "    [theme=dark] .colab-df-convert:hover {\n",
              "      background-color: #434B5C;\n",
              "      box-shadow: 0px 1px 3px 1px rgba(0, 0, 0, 0.15);\n",
              "      filter: drop-shadow(0px 1px 2px rgba(0, 0, 0, 0.3));\n",
              "      fill: #FFFFFF;\n",
              "    }\n",
              "  </style>\n",
              "\n",
              "      <script>\n",
              "        const buttonEl =\n",
              "          document.querySelector('#df-0a70eee0-4621-4b3f-a27e-5609dc810fc7 button.colab-df-convert');\n",
              "        buttonEl.style.display =\n",
              "          google.colab.kernel.accessAllowed ? 'block' : 'none';\n",
              "\n",
              "        async function convertToInteractive(key) {\n",
              "          const element = document.querySelector('#df-0a70eee0-4621-4b3f-a27e-5609dc810fc7');\n",
              "          const dataTable =\n",
              "            await google.colab.kernel.invokeFunction('convertToInteractive',\n",
              "                                                     [key], {});\n",
              "          if (!dataTable) return;\n",
              "\n",
              "          const docLinkHtml = 'Like what you see? Visit the ' +\n",
              "            '<a target=\"_blank\" href=https://colab.research.google.com/notebooks/data_table.ipynb>data table notebook</a>'\n",
              "            + ' to learn more about interactive tables.';\n",
              "          element.innerHTML = '';\n",
              "          dataTable['output_type'] = 'display_data';\n",
              "          await google.colab.output.renderOutput(dataTable, element);\n",
              "          const docLink = document.createElement('div');\n",
              "          docLink.innerHTML = docLinkHtml;\n",
              "          element.appendChild(docLink);\n",
              "        }\n",
              "      </script>\n",
              "    </div>\n",
              "  </div>\n",
              "  "
            ]
          },
          "metadata": {},
          "execution_count": 4
        }
      ]
    },
    {
      "cell_type": "markdown",
      "source": [
        "Next, we extract the ratings from the xls-file. The first column just counts how many jokes have been rated by the respective user. As we do not need this information and can also easily compute it ourselves given the rest of the data, we drop the column.\n",
        "\n",
        "Again, we use the index as a user_id. Furthermore, we transform the ratings to be between 0 and 5.\n",
        "\n",
        "The transformation was necessary to train our model, because the standard loss function did not consider that there were negative ratings. Another solution would be to provide a custom loss function.\n",
        "\n",
        "In the end, we obtain the ratings for around 25000 users in wide format."
      ],
      "metadata": {
        "id": "s3VWbE8Zaq6H"
      }
    },
    {
      "cell_type": "code",
      "source": [
        "# drop the rating count, make index the column user_id and scale ratings to be between zero and 5\n",
        "\n",
        "joke_ratings = pd.read_excel(joke_ratings_file, header=None)\n",
        "joke_ratings.columns=[str(i) for i in range(101)]\n",
        "\n",
        "joke_ratings = joke_ratings.drop(\"0\", axis=1)\n",
        "joke_ratings = joke_ratings.reset_index().rename(columns={'index': 'user_id'})\n",
        "\n",
        "def transform_column(column):\n",
        "    if column.name != \"user_id\":\n",
        "        return column.apply(lambda x: (x + 10) / 4)\n",
        "    return column\n",
        "\n",
        "joke_ratings = joke_ratings.apply(transform_column, axis=0)\n",
        "\n",
        "print(joke_ratings.head(5))"
      ],
      "metadata": {
        "colab": {
          "base_uri": "https://localhost:8080/"
        },
        "id": "PholDwxMZJhp",
        "outputId": "60a169b8-b86a-4685-f130-9de69679aba3"
      },
      "execution_count": 9,
      "outputs": [
        {
          "output_type": "stream",
          "name": "stdout",
          "text": [
            "   user_id       1        2        3        4       5       6       7       8  \\\n",
            "0        0   0.545   4.6975   0.0850   0.4600  0.6200  0.3750  0.0375  3.5425   \n",
            "1        1   3.520   2.4275   4.0900   3.5925  1.9050  0.0850  2.3175  1.1650   \n",
            "2        2  27.250  27.2500  27.2500  27.2500  4.7575  4.8175  4.7575  4.8175   \n",
            "3        3  27.250   4.5875  27.2500  27.2500  2.9500  4.5400  1.7950  4.0525   \n",
            "4        4   4.625   3.6525   1.4575   1.1525  2.8400  2.9000  4.2600  3.6525   \n",
            "\n",
            "        9  ...       91       92       93       94       95       96       97  \\\n",
            "0   0.255  ...   3.2050  27.2500  27.2500  27.2500  27.2500  27.2500   1.0925   \n",
            "1   4.720  ...   3.2050   1.2625   2.4275   4.4650   2.4525   1.9650   3.2650   \n",
            "2  27.250  ...  27.2500  27.2500  27.2500   4.7700  27.2500  27.2500  27.2500   \n",
            "3  27.250  ...  27.2500  27.2500  27.2500   2.6325  27.2500  27.2500  27.2500   \n",
            "4   2.390  ...   3.7975   3.8950   3.5675   3.7975   3.9325   2.8875   3.2775   \n",
            "\n",
            "        98     99      100  \n",
            "0  27.2500  27.25  27.2500  \n",
            "1   2.5850   1.42   2.7675  \n",
            "2  27.2500  27.25  27.2500  \n",
            "3  27.2500  27.25  27.2500  \n",
            "4   4.1375   2.95   2.9000  \n",
            "\n",
            "[5 rows x 101 columns]\n"
          ]
        }
      ]
    },
    {
      "cell_type": "markdown",
      "source": [
        "We already have a trained model on this dataset, so let's use it."
      ],
      "metadata": {
        "id": "FVqdz-Owgg2L"
      }
    },
    {
      "cell_type": "code",
      "source": [
        "loaded = load_learner('/content/gdrive/My Drive/SE_Digital_Organizations/ordinary_learner/model.pkl')"
      ],
      "metadata": {
        "id": "7IyeXbb2ZYVD"
      },
      "execution_count": 16,
      "outputs": []
    },
    {
      "cell_type": "markdown",
      "source": [
        "#### Making recommendations\n",
        "\n",
        "Now, we will start to build recommendations for our model. Our model contains an embedding for each user and an embedding for each movie. Each embedding is a vector of 50 latent variables, which the model determined for use while training.\n",
        "\n",
        "Additionally, each user and each item has a bias, which is a constant our model determined as well while training."
      ],
      "metadata": {
        "id": "2aOK7jmKgqUp"
      }
    },
    {
      "cell_type": "code",
      "source": [
        "loaded.model"
      ],
      "metadata": {
        "colab": {
          "base_uri": "https://localhost:8080/"
        },
        "id": "jwE_XvYEg7rW",
        "outputId": "3aeb9d39-276c-4115-ba55-d71313cfe169"
      },
      "execution_count": 17,
      "outputs": [
        {
          "output_type": "execute_result",
          "data": {
            "text/plain": [
              "EmbeddingDotBias(\n",
              "  (u_weight): Embedding(24984, 50)\n",
              "  (i_weight): Embedding(101, 50)\n",
              "  (u_bias): Embedding(24984, 1)\n",
              "  (i_bias): Embedding(101, 1)\n",
              ")"
            ]
          },
          "metadata": {},
          "execution_count": 17
        }
      ]
    },
    {
      "cell_type": "markdown",
      "source": [
        "For recommending a joke to a user, we could simply average the ratings for the joke. We could also just recommend the joke with the highest bias, but then we would not have taken into account the user's preferences, which can deviate from the mean.\n",
        "\n",
        "We need the following approach: We want to find out which users are similar to the user we want to make recommendations for and we want to weigh their opinion larger than opinions of users that are very different from our user.\n",
        "\n",
        "As each user has an embedding, we can just compare the embedding of our user to the embeddings of other users. We can do so by calculating cosine similarity between these embeddings."
      ],
      "metadata": {
        "id": "17g8wkAjhL7_"
      }
    },
    {
      "cell_type": "code",
      "source": [
        "user_factors = loaded.model.u_weight.weight\n",
        "similarities = nn.CosineSimilarity(dim=1)(user_factors[666], user_factors)[:-1]\n",
        "similarities.shape"
      ],
      "metadata": {
        "colab": {
          "base_uri": "https://localhost:8080/"
        },
        "id": "Sb_kkk2Hhy7G",
        "outputId": "bdbf9e88-f7e9-4eab-c5d2-e828569a7bd3"
      },
      "execution_count": 47,
      "outputs": [
        {
          "output_type": "execute_result",
          "data": {
            "text/plain": [
              "torch.Size([24983])"
            ]
          },
          "metadata": {},
          "execution_count": 47
        }
      ]
    },
    {
      "cell_type": "markdown",
      "source": [
        "Now for this user, we need to calculate a weighted average by taking into account the calculated cosine similarities:\n",
        "\n",
        "$\\frac{\\sum_{i=1}^n cosinesimilarity_i rating_{ij}}{\\sum_{i=1}^n cosinesimilarity_i}$\n",
        "\n",
        "Given a number of users n and a joke j, we are building the sum of all products between the cosinesimilarity for the user i and the rating for joke j of user i. In the denominator, we are just adding up all the cosine similarities.\n",
        "\n",
        "Before we can start, we need to take into account a peculiarity in our dataset. If a user has not rated a joke, the dataset contained a 99. Meaning that after our transformation, it contains a 27.25. We will take care of it by replacing it with our neutral rating: 2.5.\n",
        "\n",
        "Let's start by calculating all the products for the counter in our fraction for user 666 and joke 1:"
      ],
      "metadata": {
        "id": "SXrmLdtjiCMu"
      }
    },
    {
      "cell_type": "code",
      "source": [
        "joke_ratings_without_user = joke_ratings.drop([\"user_id\"], axis=1)\n",
        "joke_rating_for_joke_42 = torch.from_numpy(joke_ratings_without_user[\"1\"].values)\n",
        "joke_rating_for_joke_42 = torch.where(joke_rating_for_joke_42 > 5.1, torch.tensor(2.5), joke_rating_for_joke_42)\n",
        "product = similarities * joke_rating_for_joke_42\n",
        "product"
      ],
      "metadata": {
        "colab": {
          "base_uri": "https://localhost:8080/"
        },
        "id": "dtB0c4RfkUu8",
        "outputId": "b608bc77-6312-4938-f7f4-a930c68af30d"
      },
      "execution_count": 54,
      "outputs": [
        {
          "output_type": "execute_result",
          "data": {
            "text/plain": [
              "tensor([-0.0036, -1.0723,  0.7182,  ...,  0.4684, -0.9358,  0.2970],\n",
              "       dtype=torch.float64, grad_fn=<MulBackward0>)"
            ]
          },
          "metadata": {},
          "execution_count": 54
        }
      ]
    },
    {
      "cell_type": "markdown",
      "source": [
        "Sum that up, so that will give us the sumproduct for our counter:"
      ],
      "metadata": {
        "id": "r0m6uIyaluvo"
      }
    },
    {
      "cell_type": "code",
      "source": [
        "sumproduct = torch.sum(product, dim=0)\n",
        "sumproduct"
      ],
      "metadata": {
        "colab": {
          "base_uri": "https://localhost:8080/"
        },
        "id": "WG308XAQlxQf",
        "outputId": "e9426f2d-f220-44ef-b738-d8b98e23553a"
      },
      "execution_count": 55,
      "outputs": [
        {
          "output_type": "execute_result",
          "data": {
            "text/plain": [
              "tensor(18815.1288, dtype=torch.float64, grad_fn=<SumBackward1>)"
            ]
          },
          "metadata": {},
          "execution_count": 55
        }
      ]
    },
    {
      "cell_type": "markdown",
      "source": [
        "Divide the sumproduct by the sum of similarities to give us our weighted average:"
      ],
      "metadata": {
        "id": "I9LBnFTHmB-Q"
      }
    },
    {
      "cell_type": "code",
      "source": [
        "predicted_rating = sumproduct/similarities.sum()\n",
        "predicted_rating"
      ],
      "metadata": {
        "colab": {
          "base_uri": "https://localhost:8080/"
        },
        "id": "iR4um5bSmFVa",
        "outputId": "75056953-0e56-44a7-9e19-87af568278b6"
      },
      "execution_count": 56,
      "outputs": [
        {
          "output_type": "execute_result",
          "data": {
            "text/plain": [
              "tensor(2.6388, dtype=torch.float64, grad_fn=<DivBackward0>)"
            ]
          },
          "metadata": {},
          "execution_count": 56
        }
      ]
    },
    {
      "cell_type": "markdown",
      "source": [
        "Now that we predicted a rating for a single joke, we can do so for the whole set of jokes for our user 666."
      ],
      "metadata": {
        "id": "dsXwBrcunFAp"
      }
    },
    {
      "cell_type": "code",
      "source": [
        "joke_ratings_without_user = torch.from_numpy(joke_ratings_without_user.values)\n",
        "replaced_tensor = torch.where(joke_ratings_without_user > 5.1, torch.tensor(2.5), joke_ratings_without_user)\n",
        "ratings = replaced_tensor * similarities[:, np.newaxis]\n",
        "summated_ratings = torch.sum(ratings, dim=0)\n",
        "weighted_ratings = summated_ratings/similarities.sum()\n",
        "weighted_ratings.shape"
      ],
      "metadata": {
        "colab": {
          "base_uri": "https://localhost:8080/"
        },
        "id": "mZl-vtT5noNZ",
        "outputId": "df3ac339-edac-4bca-f812-91921c38e251"
      },
      "execution_count": 57,
      "outputs": [
        {
          "output_type": "execute_result",
          "data": {
            "text/plain": [
              "torch.Size([100])"
            ]
          },
          "metadata": {},
          "execution_count": 57
        }
      ]
    },
    {
      "cell_type": "markdown",
      "source": [
        "Now we can select the top 10 joke ids for our user."
      ],
      "metadata": {
        "id": "v9491qLzoJZ7"
      }
    },
    {
      "cell_type": "code",
      "source": [
        "values, joke_indices = torch.topk(weighted_ratings, 10)\n",
        "joke_indices"
      ],
      "metadata": {
        "colab": {
          "base_uri": "https://localhost:8080/"
        },
        "id": "4xMspxTpoNq1",
        "outputId": "e4faa809-7a52-498e-db52-1b96bbfddb15"
      },
      "execution_count": 60,
      "outputs": [
        {
          "output_type": "execute_result",
          "data": {
            "text/plain": [
              "tensor([49, 35, 31, 26, 34, 61, 28, 52, 48, 67])"
            ]
          },
          "metadata": {},
          "execution_count": 60
        }
      ]
    },
    {
      "cell_type": "markdown",
      "source": [
        "And we can look up what these jokes are in our joke dataset:"
      ],
      "metadata": {
        "id": "OJPDXYh8oSzH"
      }
    },
    {
      "cell_type": "code",
      "source": [
        "for joke_index in joke_indices.tolist():\n",
        "    print(\"Recommend joke with id \" + str(joke_index) + \" to user \" + str(666))\n",
        "    joke_df = joke_text_df[(joke_text_df[\"joke_id\"] == joke_index)]\n",
        "    for index, row in joke_df.iterrows():\n",
        "      print(row['joke_id'])\n",
        "      print(row['joke_text'])"
      ],
      "metadata": {
        "colab": {
          "base_uri": "https://localhost:8080/"
        },
        "id": "sxLAVUHooVyd",
        "outputId": "4f25e747-9c22-494f-dbf8-78532393ef39"
      },
      "execution_count": 61,
      "outputs": [
        {
          "output_type": "stream",
          "name": "stdout",
          "text": [
            "Recommend joke with id 49 to user 666\n",
            "49\n",
            "\n",
            "A guy goes into confession and says to the priest, \"Father, I'm 80 years\n",
            "old, widower, with 11 grandchildren. Last night I met two beautiful flight\n",
            "attendants. They took me home and I made love to both of them. Twice.\"\n",
            "\n",
            "The priest said: \"Well, my son, when was the last time you were in\n",
            "confession?\"\n",
            " \"Never Father, I'm Jewish.\"\n",
            " \"So then, why are you telling me?\"\n",
            " \"I'm telling everybody.\"\n",
            "\n",
            "Recommend joke with id 35 to user 666\n",
            "35\n",
            "\n",
            "A guy walks into a bar, orders a beer and says to the bartender,\n",
            "\"Hey, I got this great Polish Joke...\" \n",
            "\n",
            "The barkeep glares at him and says in a warning tone of voice:\n",
            "\"Before you go telling that joke you better know that I'm Polish, both\n",
            "bouncers are Polish and so are most of my customers\"\n",
            "\n",
            "\"Okay\" says the customer,\"I'll tell it very slowly.\" \n",
            "\n",
            "Recommend joke with id 31 to user 666\n",
            "31\n",
            "\n",
            "A man arrives at the gates of heaven. St. Peter asks, \"Religion?\" \n",
            "The man says, \"Methodist.\" St. Peter looks down his list, and says, \n",
            "\"Go to room 24, but be very quiet as you pass room 8.\" \n",
            "\n",
            "Another man arrives at the gates of heaven. \"Religion?\"\n",
            "\"Baptist.\" \"Go to room 18, but be very quiet as you pass room 8.\" \n",
            "\n",
            "A third man arrives at the gates. \"Religion?\" \"Jewish.\"\n",
            "\"Go to room 11, but be very quiet as you pass room 8.\" \n",
            "The man says, \"I can understand there being different rooms for different religions, but why\n",
            "must I be quiet when I pass room 8?\" St. Peter tells him, \"Well the Catholics are in room 8, \n",
            "and they think they're the only ones here.\n",
            "\n",
            "Recommend joke with id 26 to user 666\n",
            "26\n",
            "\n",
            "Clinton returns from a vacation in Arkansas and walks down  the\n",
            "steps of Air Force One with two pigs under his arms.  At the bottom\n",
            "of the steps, he says  to the honor guardsman, \"These are genuine\n",
            "Arkansas Razor-Back Hogs.  I got this one for Chelsea and this one for\n",
            "Hillary.\"  \n",
            "\n",
            "The guardsman replies, \"Nice trade, Sir.\"\n",
            "\n",
            "Recommend joke with id 34 to user 666\n",
            "34\n",
            "\n",
            "An explorer in the deepest Amazon suddenly finds himself surrounded\n",
            "by a bloodthirsty group of natives. Upon surveying the situation, he\n",
            "says quietly to himself, \"Oh God, I'm screwed.\" \n",
            "\n",
            "The sky darkens and a voice booms out, \"No, you are NOT\n",
            "screwed. Pick up that stone at your feet and bash in the head of the\n",
            "chief standing in front of you.\" \n",
            "\n",
            "So with the stone he bashes the life out of the chief. Standing above\n",
            "the lifeless body, breathing heavily looking at 100 angry natives... \n",
            "\n",
            "The voice booms out again, \"Okay ..... NOW you're screwed.\" \n",
            "\n",
            "Recommend joke with id 61 to user 666\n",
            "61\n",
            "\n",
            "A group of  managers were given the assignment to measure the\n",
            "height of a flagpole. So they go out to the flagpole with ladders\n",
            "and tape measures, and they're falling off the ladders, dropping\n",
            "the tape measures - the whole thing is just a mess.\n",
            "An engineer comes along and sees what they're trying to do,\n",
            "walks over, pulls the flagpole out of the ground, lays it flat,\n",
            "measures it from end to end, gives the measurement to one of the\n",
            "managers and walks away.\n",
            "After the engineer has gone, one manager turns to another and\n",
            "laughs. \"Isn't that just like an engineer, we're looking for the \n",
            "height and he gives us the length.\"\n",
            "\n",
            "Recommend joke with id 28 to user 666\n",
            "28\n",
            "\n",
            "An old Scotsmen is sitting with a younger Scottish gentleman and says the boy. \n",
            "\"Ah, lad look out that window. You see that stone wall there, I built it with\n",
            "me own bare hands, placed every stone meself.  But do they call me MacGregor the\n",
            "wall builder? No! \n",
            "\n",
            "He Takes a few sips of his beer then says, \"Aye, and look out on that lake and \n",
            "eye that beautiful pier. I built it meself, laid every board and hammered each\n",
            "nail but do they call me MacGregor the pier builder? No! \n",
            "\n",
            "He continues...\"And lad, you see that road? That too I build with me own bare \n",
            "hands. Laid every inch of pavement meself, but do they call MacGregor the road\n",
            "builder? No!\"\n",
            "\n",
            "Again he returns to his beer for a few sips, then says, \n",
            "\"Agh, but you screw one sheep...\"\n",
            "\n",
            "Recommend joke with id 52 to user 666\n",
            "52\n",
            "\n",
            "One Sunday morning William burst into the living room and said,\n",
            "\"Dad! Mom! I have some great news for you! I am getting married\n",
            "to the most beautiful girl in town. She lives a block away and\n",
            "her name is Susan.\"\n",
            "After dinner, William's dad took him aside. \"Son, I have to talk\n",
            "with you. Your mother and I have been married 30 years.. She's a\n",
            "wonderful wife but she has never offered much excitement in the\n",
            "bedroom, so I used to fool around with women a lot. Susan is\n",
            "actually your half-sister, and I'm afraid you can't marry her.\"\n",
            "William was heart-broken. After eight months he eventually\n",
            "started dating girls again. A year later he came home and very\n",
            "proudly announced, \"Dianne said yes! We're getting married in\n",
            "June.\"\n",
            "Again his father insisted on another private conversation and\n",
            "broke the sad news. \"Dianne is your half-sister too, William. I'm\n",
            "awfully sorry about this.\"\n",
            "William was furious! He finally decided to go to his mother with\n",
            "the news.\n",
            "\"Dad has done so much harm.. I guess I'm never going to get\n",
            "married,\"  he complained. \"Every time I fall in love, Dad tells\n",
            "me the girl is my half-sister.\"\n",
            "His mother just shook her head. \"Don't pay any attention to what\n",
            "he says, dear. He's not really your father.\"\n",
            "\n",
            "Recommend joke with id 48 to user 666\n",
            "48\n",
            "\n",
            "Three engineering students were gathered together discussing the\n",
            "possible designers of the human body.  \n",
            "One said, \"It was a mechanical engineer. Just look at all the joints.\"  \n",
            "Another said, \"No, it was an electrical engineer.  The nervous systems many thousands of electrical\n",
            "connections.\"  \n",
            "The last said, \"Actually it was a civil engineer. Who else would run a toxic waste pipeline through a recreational area?\"\n",
            "\n",
            "Recommend joke with id 67 to user 666\n",
            "67\n",
            "\n",
            "A man piloting a hot air balloon discovers he has wandered off course and\n",
            "is hopelessly lost. He descends to a lower altitude and locates a man\n",
            "down on the ground. He lowers the balloon further and shouts \"Excuse me,\n",
            "can you tell me where I am?\"\n",
            "\n",
            "The man below says: \"Yes, you're in a hot air balloon, about 30 feet\n",
            "above this field.\"\n",
            "\n",
            "\"You must work in Information Technology,\" says the balloonist.\n",
            "\n",
            "\"Yes I do,\" replies the man. \"And how did you know that?\"\n",
            "\n",
            "\"Well,\" says the balloonist, \"what you told me is technically correct,\n",
            "but of no use to anyone.\"\n",
            "\n",
            "The man below says, \"You must work in management.\"\n",
            "\n",
            "\"I do,\" replies the balloonist, \"how did you know?\"\n",
            "\n",
            "\"Well,\" says the man, \"you don't know where you are, or where you're\n",
            "going, but you expect my immediate help. You're in the same position you\n",
            "were before we met, but now it's my fault!\"\n",
            "\n",
            "\n"
          ]
        }
      ]
    },
    {
      "cell_type": "markdown",
      "source": [
        "We can wrap all of what we learned in a function to make it possible to predict good jokes for every user. Also, we should take into account whether a user has already seen a joke and not recommend it to him in case he has."
      ],
      "metadata": {
        "id": "rP2cYZA-otZW"
      }
    },
    {
      "cell_type": "code",
      "source": [
        "def recommend_joke_to_user(user_id):\n",
        "  user_factors = loaded.model.u_weight.weight\n",
        "  distances = nn.CosineSimilarity(dim=1)(user_factors[user_id], user_factors)\n",
        "  distances = distances[:-1]\n",
        "  joke_ratings_without_user = joke_ratings.drop([\"user_id\"], axis=1)\n",
        "  joke_ratings_without_user = torch.from_numpy(joke_ratings_without_user.values)\n",
        "  replaced_tensor = torch.where(joke_ratings_without_user > 5.1, torch.tensor(2.5), joke_ratings_without_user)\n",
        "  ratings = replaced_tensor * distances[:, np.newaxis]\n",
        "  summated_ratings = torch.sum(ratings, dim=0)\n",
        "  weighted_ratings = summated_ratings/distances.sum()\n",
        "  values, joke_indices = torch.topk(weighted_ratings, 10)\n",
        "\n",
        "  recommendation_given = False;\n",
        "\n",
        "  for joke_index in joke_indices.tolist():\n",
        "      user_may_have_rated = joke_ratings[(joke_ratings[\"user_id\"] == user_id)]\n",
        "      if(user_may_have_rated[str(joke_index)].values[0] != 27.25):\n",
        "        print(\"User \" + str(user_id) + \" already rated joke with the id \" + str(joke_index))\n",
        "        continue;\n",
        "      else:\n",
        "        print(\"Recommend joke with id \" + str(joke_index) + \" to user \" + str(user_id))\n",
        "        joke_df = joke_text_df[(joke_text_df[\"joke_id\"] == joke_index)]\n",
        "        for index, row in joke_df.iterrows():\n",
        "          print(row['joke_id'])\n",
        "          print(row['joke_text'])\n",
        "          recommendation_given = True\n",
        "          break;\n",
        "\n",
        "  if(not recommendation_given):\n",
        "    print(\"Top jokes for user \" + str(user_id) + \" already rated.\")"
      ],
      "metadata": {
        "id": "Z4TqZjUXZfIN"
      },
      "execution_count": 70,
      "outputs": []
    },
    {
      "cell_type": "code",
      "source": [
        "for i in range(1111,1122):\n",
        "  recommend_joke_to_user(i)"
      ],
      "metadata": {
        "colab": {
          "base_uri": "https://localhost:8080/"
        },
        "id": "JvcDzFQ_o-Q2",
        "outputId": "8112d752-8004-48c6-e3d9-09d122195668"
      },
      "execution_count": 73,
      "outputs": [
        {
          "output_type": "stream",
          "name": "stdout",
          "text": [
            "User 1111 already rated joke with the id 49\n",
            "User 1111 already rated joke with the id 35\n",
            "User 1111 already rated joke with the id 31\n",
            "User 1111 already rated joke with the id 26\n",
            "User 1111 already rated joke with the id 34\n",
            "User 1111 already rated joke with the id 52\n",
            "User 1111 already rated joke with the id 68\n",
            "User 1111 already rated joke with the id 28\n",
            "User 1111 already rated joke with the id 61\n",
            "Recommend joke with id 67 to user 1111\n",
            "67\n",
            "\n",
            "A man piloting a hot air balloon discovers he has wandered off course and\n",
            "is hopelessly lost. He descends to a lower altitude and locates a man\n",
            "down on the ground. He lowers the balloon further and shouts \"Excuse me,\n",
            "can you tell me where I am?\"\n",
            "\n",
            "The man below says: \"Yes, you're in a hot air balloon, about 30 feet\n",
            "above this field.\"\n",
            "\n",
            "\"You must work in Information Technology,\" says the balloonist.\n",
            "\n",
            "\"Yes I do,\" replies the man. \"And how did you know that?\"\n",
            "\n",
            "\"Well,\" says the balloonist, \"what you told me is technically correct,\n",
            "but of no use to anyone.\"\n",
            "\n",
            "The man below says, \"You must work in management.\"\n",
            "\n",
            "\"I do,\" replies the balloonist, \"how did you know?\"\n",
            "\n",
            "\"Well,\" says the man, \"you don't know where you are, or where you're\n",
            "going, but you expect my immediate help. You're in the same position you\n",
            "were before we met, but now it's my fault!\"\n",
            "\n",
            "\n",
            "User 1112 already rated joke with the id 49\n",
            "User 1112 already rated joke with the id 35\n",
            "User 1112 already rated joke with the id 31\n",
            "User 1112 already rated joke with the id 48\n",
            "Recommend joke with id 67 to user 1112\n",
            "67\n",
            "\n",
            "A man piloting a hot air balloon discovers he has wandered off course and\n",
            "is hopelessly lost. He descends to a lower altitude and locates a man\n",
            "down on the ground. He lowers the balloon further and shouts \"Excuse me,\n",
            "can you tell me where I am?\"\n",
            "\n",
            "The man below says: \"Yes, you're in a hot air balloon, about 30 feet\n",
            "above this field.\"\n",
            "\n",
            "\"You must work in Information Technology,\" says the balloonist.\n",
            "\n",
            "\"Yes I do,\" replies the man. \"And how did you know that?\"\n",
            "\n",
            "\"Well,\" says the balloonist, \"what you told me is technically correct,\n",
            "but of no use to anyone.\"\n",
            "\n",
            "The man below says, \"You must work in management.\"\n",
            "\n",
            "\"I do,\" replies the balloonist, \"how did you know?\"\n",
            "\n",
            "\"Well,\" says the man, \"you don't know where you are, or where you're\n",
            "going, but you expect my immediate help. You're in the same position you\n",
            "were before we met, but now it's my fault!\"\n",
            "\n",
            "\n",
            "User 1112 already rated joke with the id 28\n",
            "Recommend joke with id 26 to user 1112\n",
            "26\n",
            "\n",
            "Clinton returns from a vacation in Arkansas and walks down  the\n",
            "steps of Air Force One with two pigs under his arms.  At the bottom\n",
            "of the steps, he says  to the honor guardsman, \"These are genuine\n",
            "Arkansas Razor-Back Hogs.  I got this one for Chelsea and this one for\n",
            "Hillary.\"  \n",
            "\n",
            "The guardsman replies, \"Nice trade, Sir.\"\n",
            "\n",
            "User 1112 already rated joke with the id 61\n",
            "Recommend joke with id 52 to user 1112\n",
            "52\n",
            "\n",
            "One Sunday morning William burst into the living room and said,\n",
            "\"Dad! Mom! I have some great news for you! I am getting married\n",
            "to the most beautiful girl in town. She lives a block away and\n",
            "her name is Susan.\"\n",
            "After dinner, William's dad took him aside. \"Son, I have to talk\n",
            "with you. Your mother and I have been married 30 years.. She's a\n",
            "wonderful wife but she has never offered much excitement in the\n",
            "bedroom, so I used to fool around with women a lot. Susan is\n",
            "actually your half-sister, and I'm afraid you can't marry her.\"\n",
            "William was heart-broken. After eight months he eventually\n",
            "started dating girls again. A year later he came home and very\n",
            "proudly announced, \"Dianne said yes! We're getting married in\n",
            "June.\"\n",
            "Again his father insisted on another private conversation and\n",
            "broke the sad news. \"Dianne is your half-sister too, William. I'm\n",
            "awfully sorry about this.\"\n",
            "William was furious! He finally decided to go to his mother with\n",
            "the news.\n",
            "\"Dad has done so much harm.. I guess I'm never going to get\n",
            "married,\"  he complained. \"Every time I fall in love, Dad tells\n",
            "me the girl is my half-sister.\"\n",
            "His mother just shook her head. \"Don't pay any attention to what\n",
            "he says, dear. He's not really your father.\"\n",
            "\n",
            "Recommend joke with id 34 to user 1112\n",
            "34\n",
            "\n",
            "An explorer in the deepest Amazon suddenly finds himself surrounded\n",
            "by a bloodthirsty group of natives. Upon surveying the situation, he\n",
            "says quietly to himself, \"Oh God, I'm screwed.\" \n",
            "\n",
            "The sky darkens and a voice booms out, \"No, you are NOT\n",
            "screwed. Pick up that stone at your feet and bash in the head of the\n",
            "chief standing in front of you.\" \n",
            "\n",
            "So with the stone he bashes the life out of the chief. Standing above\n",
            "the lifeless body, breathing heavily looking at 100 angry natives... \n",
            "\n",
            "The voice booms out again, \"Okay ..... NOW you're screwed.\" \n",
            "\n",
            "User 1113 already rated joke with the id 49\n",
            "User 1113 already rated joke with the id 35\n",
            "User 1113 already rated joke with the id 31\n",
            "User 1113 already rated joke with the id 26\n",
            "User 1113 already rated joke with the id 34\n",
            "User 1113 already rated joke with the id 61\n",
            "User 1113 already rated joke with the id 28\n",
            "User 1113 already rated joke with the id 52\n",
            "User 1113 already rated joke with the id 48\n",
            "User 1113 already rated joke with the id 53\n",
            "Top jokes for user 1113 already rated.\n",
            "User 1114 already rated joke with the id 49\n",
            "User 1114 already rated joke with the id 35\n",
            "User 1114 already rated joke with the id 31\n",
            "Recommend joke with id 26 to user 1114\n",
            "26\n",
            "\n",
            "Clinton returns from a vacation in Arkansas and walks down  the\n",
            "steps of Air Force One with two pigs under his arms.  At the bottom\n",
            "of the steps, he says  to the honor guardsman, \"These are genuine\n",
            "Arkansas Razor-Back Hogs.  I got this one for Chelsea and this one for\n",
            "Hillary.\"  \n",
            "\n",
            "The guardsman replies, \"Nice trade, Sir.\"\n",
            "\n",
            "Recommend joke with id 34 to user 1114\n",
            "34\n",
            "\n",
            "An explorer in the deepest Amazon suddenly finds himself surrounded\n",
            "by a bloodthirsty group of natives. Upon surveying the situation, he\n",
            "says quietly to himself, \"Oh God, I'm screwed.\" \n",
            "\n",
            "The sky darkens and a voice booms out, \"No, you are NOT\n",
            "screwed. Pick up that stone at your feet and bash in the head of the\n",
            "chief standing in front of you.\" \n",
            "\n",
            "So with the stone he bashes the life out of the chief. Standing above\n",
            "the lifeless body, breathing heavily looking at 100 angry natives... \n",
            "\n",
            "The voice booms out again, \"Okay ..... NOW you're screwed.\" \n",
            "\n",
            "User 1114 already rated joke with the id 61\n",
            "User 1114 already rated joke with the id 28\n",
            "Recommend joke with id 52 to user 1114\n",
            "52\n",
            "\n",
            "One Sunday morning William burst into the living room and said,\n",
            "\"Dad! Mom! I have some great news for you! I am getting married\n",
            "to the most beautiful girl in town. She lives a block away and\n",
            "her name is Susan.\"\n",
            "After dinner, William's dad took him aside. \"Son, I have to talk\n",
            "with you. Your mother and I have been married 30 years.. She's a\n",
            "wonderful wife but she has never offered much excitement in the\n",
            "bedroom, so I used to fool around with women a lot. Susan is\n",
            "actually your half-sister, and I'm afraid you can't marry her.\"\n",
            "William was heart-broken. After eight months he eventually\n",
            "started dating girls again. A year later he came home and very\n",
            "proudly announced, \"Dianne said yes! We're getting married in\n",
            "June.\"\n",
            "Again his father insisted on another private conversation and\n",
            "broke the sad news. \"Dianne is your half-sister too, William. I'm\n",
            "awfully sorry about this.\"\n",
            "William was furious! He finally decided to go to his mother with\n",
            "the news.\n",
            "\"Dad has done so much harm.. I guess I'm never going to get\n",
            "married,\"  he complained. \"Every time I fall in love, Dad tells\n",
            "me the girl is my half-sister.\"\n",
            "His mother just shook her head. \"Don't pay any attention to what\n",
            "he says, dear. He's not really your father.\"\n",
            "\n",
            "User 1114 already rated joke with the id 48\n",
            "Recommend joke with id 67 to user 1114\n",
            "67\n",
            "\n",
            "A man piloting a hot air balloon discovers he has wandered off course and\n",
            "is hopelessly lost. He descends to a lower altitude and locates a man\n",
            "down on the ground. He lowers the balloon further and shouts \"Excuse me,\n",
            "can you tell me where I am?\"\n",
            "\n",
            "The man below says: \"Yes, you're in a hot air balloon, about 30 feet\n",
            "above this field.\"\n",
            "\n",
            "\"You must work in Information Technology,\" says the balloonist.\n",
            "\n",
            "\"Yes I do,\" replies the man. \"And how did you know that?\"\n",
            "\n",
            "\"Well,\" says the balloonist, \"what you told me is technically correct,\n",
            "but of no use to anyone.\"\n",
            "\n",
            "The man below says, \"You must work in management.\"\n",
            "\n",
            "\"I do,\" replies the balloonist, \"how did you know?\"\n",
            "\n",
            "\"Well,\" says the man, \"you don't know where you are, or where you're\n",
            "going, but you expect my immediate help. You're in the same position you\n",
            "were before we met, but now it's my fault!\"\n",
            "\n",
            "\n",
            "User 1115 already rated joke with the id 49\n",
            "User 1115 already rated joke with the id 35\n",
            "User 1115 already rated joke with the id 31\n",
            "User 1115 already rated joke with the id 26\n",
            "User 1115 already rated joke with the id 34\n",
            "User 1115 already rated joke with the id 61\n",
            "User 1115 already rated joke with the id 28\n",
            "Recommend joke with id 52 to user 1115\n",
            "52\n",
            "\n",
            "One Sunday morning William burst into the living room and said,\n",
            "\"Dad! Mom! I have some great news for you! I am getting married\n",
            "to the most beautiful girl in town. She lives a block away and\n",
            "her name is Susan.\"\n",
            "After dinner, William's dad took him aside. \"Son, I have to talk\n",
            "with you. Your mother and I have been married 30 years.. She's a\n",
            "wonderful wife but she has never offered much excitement in the\n",
            "bedroom, so I used to fool around with women a lot. Susan is\n",
            "actually your half-sister, and I'm afraid you can't marry her.\"\n",
            "William was heart-broken. After eight months he eventually\n",
            "started dating girls again. A year later he came home and very\n",
            "proudly announced, \"Dianne said yes! We're getting married in\n",
            "June.\"\n",
            "Again his father insisted on another private conversation and\n",
            "broke the sad news. \"Dianne is your half-sister too, William. I'm\n",
            "awfully sorry about this.\"\n",
            "William was furious! He finally decided to go to his mother with\n",
            "the news.\n",
            "\"Dad has done so much harm.. I guess I'm never going to get\n",
            "married,\"  he complained. \"Every time I fall in love, Dad tells\n",
            "me the girl is my half-sister.\"\n",
            "His mother just shook her head. \"Don't pay any attention to what\n",
            "he says, dear. He's not really your father.\"\n",
            "\n",
            "User 1115 already rated joke with the id 48\n",
            "User 1115 already rated joke with the id 67\n",
            "User 1116 already rated joke with the id 49\n",
            "User 1116 already rated joke with the id 31\n",
            "User 1116 already rated joke with the id 35\n",
            "User 1116 already rated joke with the id 61\n",
            "User 1116 already rated joke with the id 26\n",
            "User 1116 already rated joke with the id 28\n",
            "User 1116 already rated joke with the id 34\n",
            "User 1116 already rated joke with the id 53\n",
            "User 1116 already rated joke with the id 48\n",
            "User 1116 already rated joke with the id 52\n",
            "Top jokes for user 1116 already rated.\n",
            "User 1117 already rated joke with the id 49\n",
            "User 1117 already rated joke with the id 35\n",
            "User 1117 already rated joke with the id 31\n",
            "User 1117 already rated joke with the id 26\n",
            "User 1117 already rated joke with the id 34\n",
            "User 1117 already rated joke with the id 28\n",
            "User 1117 already rated joke with the id 61\n",
            "User 1117 already rated joke with the id 52\n",
            "User 1117 already rated joke with the id 48\n",
            "User 1117 already rated joke with the id 67\n",
            "Top jokes for user 1117 already rated.\n",
            "User 1118 already rated joke with the id 49\n",
            "User 1118 already rated joke with the id 35\n",
            "User 1118 already rated joke with the id 31\n",
            "User 1118 already rated joke with the id 26\n",
            "User 1118 already rated joke with the id 34\n",
            "User 1118 already rated joke with the id 61\n",
            "User 1118 already rated joke with the id 52\n",
            "User 1118 already rated joke with the id 28\n",
            "User 1118 already rated joke with the id 48\n",
            "User 1118 already rated joke with the id 67\n",
            "Top jokes for user 1118 already rated.\n",
            "User 1119 already rated joke with the id 49\n",
            "User 1119 already rated joke with the id 35\n",
            "User 1119 already rated joke with the id 31\n",
            "User 1119 already rated joke with the id 26\n",
            "User 1119 already rated joke with the id 34\n",
            "User 1119 already rated joke with the id 61\n",
            "User 1119 already rated joke with the id 28\n",
            "User 1119 already rated joke with the id 52\n",
            "User 1119 already rated joke with the id 48\n",
            "Recommend joke with id 67 to user 1119\n",
            "67\n",
            "\n",
            "A man piloting a hot air balloon discovers he has wandered off course and\n",
            "is hopelessly lost. He descends to a lower altitude and locates a man\n",
            "down on the ground. He lowers the balloon further and shouts \"Excuse me,\n",
            "can you tell me where I am?\"\n",
            "\n",
            "The man below says: \"Yes, you're in a hot air balloon, about 30 feet\n",
            "above this field.\"\n",
            "\n",
            "\"You must work in Information Technology,\" says the balloonist.\n",
            "\n",
            "\"Yes I do,\" replies the man. \"And how did you know that?\"\n",
            "\n",
            "\"Well,\" says the balloonist, \"what you told me is technically correct,\n",
            "but of no use to anyone.\"\n",
            "\n",
            "The man below says, \"You must work in management.\"\n",
            "\n",
            "\"I do,\" replies the balloonist, \"how did you know?\"\n",
            "\n",
            "\"Well,\" says the man, \"you don't know where you are, or where you're\n",
            "going, but you expect my immediate help. You're in the same position you\n",
            "were before we met, but now it's my fault!\"\n",
            "\n",
            "\n",
            "User 1120 already rated joke with the id 49\n",
            "User 1120 already rated joke with the id 35\n",
            "User 1120 already rated joke with the id 31\n",
            "User 1120 already rated joke with the id 26\n",
            "User 1120 already rated joke with the id 34\n",
            "User 1120 already rated joke with the id 61\n",
            "User 1120 already rated joke with the id 28\n",
            "User 1120 already rated joke with the id 52\n",
            "User 1120 already rated joke with the id 48\n",
            "Recommend joke with id 67 to user 1120\n",
            "67\n",
            "\n",
            "A man piloting a hot air balloon discovers he has wandered off course and\n",
            "is hopelessly lost. He descends to a lower altitude and locates a man\n",
            "down on the ground. He lowers the balloon further and shouts \"Excuse me,\n",
            "can you tell me where I am?\"\n",
            "\n",
            "The man below says: \"Yes, you're in a hot air balloon, about 30 feet\n",
            "above this field.\"\n",
            "\n",
            "\"You must work in Information Technology,\" says the balloonist.\n",
            "\n",
            "\"Yes I do,\" replies the man. \"And how did you know that?\"\n",
            "\n",
            "\"Well,\" says the balloonist, \"what you told me is technically correct,\n",
            "but of no use to anyone.\"\n",
            "\n",
            "The man below says, \"You must work in management.\"\n",
            "\n",
            "\"I do,\" replies the balloonist, \"how did you know?\"\n",
            "\n",
            "\"Well,\" says the man, \"you don't know where you are, or where you're\n",
            "going, but you expect my immediate help. You're in the same position you\n",
            "were before we met, but now it's my fault!\"\n",
            "\n",
            "\n",
            "User 1121 already rated joke with the id 49\n",
            "User 1121 already rated joke with the id 31\n",
            "Recommend joke with id 34 to user 1121\n",
            "34\n",
            "\n",
            "An explorer in the deepest Amazon suddenly finds himself surrounded\n",
            "by a bloodthirsty group of natives. Upon surveying the situation, he\n",
            "says quietly to himself, \"Oh God, I'm screwed.\" \n",
            "\n",
            "The sky darkens and a voice booms out, \"No, you are NOT\n",
            "screwed. Pick up that stone at your feet and bash in the head of the\n",
            "chief standing in front of you.\" \n",
            "\n",
            "So with the stone he bashes the life out of the chief. Standing above\n",
            "the lifeless body, breathing heavily looking at 100 angry natives... \n",
            "\n",
            "The voice booms out again, \"Okay ..... NOW you're screwed.\" \n",
            "\n",
            "User 1121 already rated joke with the id 53\n",
            "Recommend joke with id 30 to user 1121\n",
            "30\n",
            "\n",
            " President Clinton looks up from his desk in the Oval Office to see\n",
            " one of his aides nervously approach him. \n",
            " \"What is it?\" exclaims the President. \n",
            "\"It's this Abortion Bill Mr. President, what do you want to do\n",
            " about it?\" the aide replies. \n",
            "\"Just go ahead and pay it.\" responds the President. \n",
            "\n",
            "User 1121 already rated joke with the id 28\n",
            "User 1121 already rated joke with the id 48\n",
            "User 1121 already rated joke with the id 61\n",
            "User 1121 already rated joke with the id 35\n",
            "User 1121 already rated joke with the id 26\n"
          ]
        }
      ]
    }
  ]
}