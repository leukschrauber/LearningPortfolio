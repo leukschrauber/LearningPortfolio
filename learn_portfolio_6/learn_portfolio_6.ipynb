{
  "nbformat": 4,
  "nbformat_minor": 0,
  "metadata": {
    "colab": {
      "provenance": [],
      "toc_visible": true,
      "authorship_tag": "ABX9TyNiSELcF8UQNYePzYX64/zS",
      "include_colab_link": true
    },
    "kernelspec": {
      "name": "python3",
      "display_name": "Python 3"
    },
    "language_info": {
      "name": "python"
    },
    "gpuClass": "standard"
  },
  "cells": [
    {
      "cell_type": "markdown",
      "metadata": {
        "id": "view-in-github",
        "colab_type": "text"
      },
      "source": [
        "<a href=\"https://colab.research.google.com/github/leukschrauber/LearningPortfolio/blob/main/learn_portfolio_6.ipynb\" target=\"_parent\"><img src=\"https://colab.research.google.com/assets/colab-badge.svg\" alt=\"Open In Colab\"/></a>"
      ]
    },
    {
      "cell_type": "markdown",
      "source": [
        "# Learning Portfolio\n",
        "*by Fabian Leuk (csba6437/12215478)*"
      ],
      "metadata": {
        "id": "m38ZeRwm7Kjb"
      }
    },
    {
      "cell_type": "markdown",
      "source": [
        "## Session 6: Artifical Neural Networks\n",
        "\n",
        "In my learning portfolios 3 and 4, I have already experimented on Artificial Neural Networks using the titanic dataset from kaggle. (https://www.kaggle.com/competitions/titanic/overview)\n",
        "\n",
        "In this Notebook, I will revise my solution from Learning Portfolio 4 (https://github.com/leukschrauber/LearningPortfolio/blob/main/learn_portfolio_4.ipynb) using the insights of this fast AI lesson (https://course.fast.ai/Lessons/lesson5.html). In particular, I will use insights from feature engineering and ensembling."
      ],
      "metadata": {
        "id": "ij5PIbLw3Yg9"
      }
    },
    {
      "cell_type": "markdown",
      "source": [
        "### Key Learnings\n",
        "\n",
        "\n",
        "\n",
        "\n",
        "*   FastAI is a bit difficult to handle sometimes. I tried to connect the learner to an SKLearn-Data-Preprocessing pipeline but failed to do so because of cryptic error messages of fastAI. Sometimes it feels like fastAI is not as mature as other ML librariers such as transformers.\n",
        "*   learner.lr_find() can be quite useful as I struggled in the past to guess a good learning rate for my models\n",
        "*   I learned that I should not throw columns away blindly. As demonstrated by the fastAI lesson, the columns \"Ticket\" and \"Name\" can be transformed into valuable model inputs. In my recent Learning Portfolios, I simply discarded them.\n",
        "* @ is the python operator for matrix multiplication\n",
        "* sympy is a python library which can be used to plot symbolic expressions\n",
        "* pytorch relies on CUDA/GPU making broadcasting and matrix multiplications incredibly fast\n",
        "* Although I prefer SKLearn's train_test_split(), fastAI as well provides a RandomSplitter() to do the job\n",
        "* Although I prefer SKLearn's data preprocessing pipelines, fastAI's TabularPandas can do the most common data transformations as well\n",
        "* Creating multiple models and averaging their predictions is referred to as ensembling and is oftentimes superior to single models predictions\n",
        "* Wrapping data transformations into functions is useful as code is needed multiple times (e.g. for every new test set)\n",
        "\n",
        "\n",
        "\n",
        "\n",
        "\n"
      ],
      "metadata": {
        "id": "yLsAHJezDknH"
      }
    },
    {
      "cell_type": "markdown",
      "source": [
        "### Application: Predicting Titanic Mortality\n"
      ],
      "metadata": {
        "id": "PcfmAFxi82MB"
      }
    },
    {
      "cell_type": "markdown",
      "source": [
        "#### Data Import"
      ],
      "metadata": {
        "id": "8zHqmQQ3QKm_"
      }
    },
    {
      "cell_type": "code",
      "source": [
        "import pandas as pd\n",
        "from google.colab import drive\n",
        "from google.colab import data_table\n",
        "import matplotlib.pyplot as plt\n",
        "import numpy as np\n",
        "from sklearn.impute import KNNImputer\n",
        "from sklearn.impute import SimpleImputer\n",
        "data_table.enable_dataframe_formatter()\n",
        "\n",
        "drive.mount('/content/drive')\n",
        "data = pd.read_csv(\"/content/drive/My Drive/SE_Digital_Organizations/titanic_train.csv\")"
      ],
      "metadata": {
        "id": "INXrjQGv3cfp",
        "colab": {
          "base_uri": "https://localhost:8080/"
        },
        "outputId": "62fb5425-3562-4f88-e57b-00517292f0e3"
      },
      "execution_count": 4,
      "outputs": [
        {
          "output_type": "stream",
          "name": "stdout",
          "text": [
            "Mounted at /content/drive\n"
          ]
        }
      ]
    },
    {
      "cell_type": "code",
      "source": [
        "! [ -e /content ] && pip install -Uqq fastbook\n",
        "import fastbook\n",
        "from fastai.vision.all import *\n",
        "from fastbook import *\n",
        "fastbook.setup_book()"
      ],
      "metadata": {
        "colab": {
          "base_uri": "https://localhost:8080/"
        },
        "id": "Br1OgEEkZY0P",
        "outputId": "1ac14241-a6f6-41aa-daab-8e935eb097f9"
      },
      "execution_count": 2,
      "outputs": [
        {
          "output_type": "stream",
          "name": "stdout",
          "text": [
            "\u001b[2K     \u001b[90m━━━━━━━━━━━━━━━━━━━━━━━━━━━━━━━━━━━━━━\u001b[0m \u001b[32m719.8/719.8 kB\u001b[0m \u001b[31m10.5 MB/s\u001b[0m eta \u001b[36m0:00:00\u001b[0m\n",
            "\u001b[2K     \u001b[90m━━━━━━━━━━━━━━━━━━━━━━━━━━━━━━━━━━━━━━━━\u001b[0m \u001b[32m7.1/7.1 MB\u001b[0m \u001b[31m44.2 MB/s\u001b[0m eta \u001b[36m0:00:00\u001b[0m\n",
            "\u001b[2K     \u001b[90m━━━━━━━━━━━━━━━━━━━━━━━━━━━━━━━━━━━━━━\u001b[0m \u001b[32m474.6/474.6 kB\u001b[0m \u001b[31m21.1 MB/s\u001b[0m eta \u001b[36m0:00:00\u001b[0m\n",
            "\u001b[2K     \u001b[90m━━━━━━━━━━━━━━━━━━━━━━━━━━━━━━━━━━━━━━━━\u001b[0m \u001b[32m1.3/1.3 MB\u001b[0m \u001b[31m28.1 MB/s\u001b[0m eta \u001b[36m0:00:00\u001b[0m\n",
            "\u001b[2K     \u001b[90m━━━━━━━━━━━━━━━━━━━━━━━━━━━━━━━━━━━━━━━\u001b[0m \u001b[32m110.5/110.5 kB\u001b[0m \u001b[31m7.3 MB/s\u001b[0m eta \u001b[36m0:00:00\u001b[0m\n",
            "\u001b[2K     \u001b[90m━━━━━━━━━━━━━━━━━━━━━━━━━━━━━━━━━━━━━━\u001b[0m \u001b[32m212.5/212.5 kB\u001b[0m \u001b[31m18.4 MB/s\u001b[0m eta \u001b[36m0:00:00\u001b[0m\n",
            "\u001b[2K     \u001b[90m━━━━━━━━━━━━━━━━━━━━━━━━━━━━━━━━━━━━━━\u001b[0m \u001b[32m134.3/134.3 kB\u001b[0m \u001b[31m10.7 MB/s\u001b[0m eta \u001b[36m0:00:00\u001b[0m\n",
            "\u001b[2K     \u001b[90m━━━━━━━━━━━━━━━━━━━━━━━━━━━━━━━━━━━━━━━━\u001b[0m \u001b[32m1.0/1.0 MB\u001b[0m \u001b[31m28.4 MB/s\u001b[0m eta \u001b[36m0:00:00\u001b[0m\n",
            "\u001b[2K     \u001b[90m━━━━━━━━━━━━━━━━━━━━━━━━━━━━━━━━━━━━━━\u001b[0m \u001b[32m224.5/224.5 kB\u001b[0m \u001b[31m16.3 MB/s\u001b[0m eta \u001b[36m0:00:00\u001b[0m\n",
            "\u001b[2K     \u001b[90m━━━━━━━━━━━━━━━━━━━━━━━━━━━━━━━━━━━━━━━━\u001b[0m \u001b[32m7.8/7.8 MB\u001b[0m \u001b[31m43.7 MB/s\u001b[0m eta \u001b[36m0:00:00\u001b[0m\n",
            "\u001b[2K     \u001b[90m━━━━━━━━━━━━━━━━━━━━━━━━━━━━━━━━━━━━━━\u001b[0m \u001b[32m114.5/114.5 kB\u001b[0m \u001b[31m10.1 MB/s\u001b[0m eta \u001b[36m0:00:00\u001b[0m\n",
            "\u001b[2K     \u001b[90m━━━━━━━━━━━━━━━━━━━━━━━━━━━━━━━━━━━━━━\u001b[0m \u001b[32m268.8/268.8 kB\u001b[0m \u001b[31m21.8 MB/s\u001b[0m eta \u001b[36m0:00:00\u001b[0m\n",
            "\u001b[2K     \u001b[90m━━━━━━━━━━━━━━━━━━━━━━━━━━━━━━━━━━━━━━\u001b[0m \u001b[32m149.6/149.6 kB\u001b[0m \u001b[31m12.9 MB/s\u001b[0m eta \u001b[36m0:00:00\u001b[0m\n",
            "\u001b[2K     \u001b[90m━━━━━━━━━━━━━━━━━━━━━━━━━━━━━━━━━━━━━━━━\u001b[0m \u001b[32m1.6/1.6 MB\u001b[0m \u001b[31m71.5 MB/s\u001b[0m eta \u001b[36m0:00:00\u001b[0m\n",
            "\u001b[?25hMounted at /content/gdrive\n"
          ]
        }
      ]
    },
    {
      "cell_type": "markdown",
      "source": [
        "#### Data Preparation\n",
        "\n",
        "When preparing the data, we will engineer features as presented in the fast AI notebook. Additionally, I will use KNNImputer for certain features like in my recent Learning Portfolio, as I think it provides better results than replacing everything by the mode.\n",
        "\n",
        "Unfortunately, I haven't been able to connect my SKLearn Pipeline to the fastAI tabular learn package as fastAI provided cryptic error messages.\n"
      ],
      "metadata": {
        "id": "OyPm2Wnb_HJ7"
      }
    },
    {
      "cell_type": "code",
      "source": [
        "data = pd.read_csv(\"/content/drive/My Drive/SE_Digital_Organizations/titanic_train.csv\")\n",
        "\n",
        "# define function to apply to each row\n",
        "def passenger_type(row):\n",
        "    if row['Sex'] == 'female' and row['Age'] >= 18:\n",
        "        return 0\n",
        "    elif row['Age'] <= 18:\n",
        "        return 1\n",
        "    elif row['Sex'] == 'male' and row['Age'] >= 18:\n",
        "        return 2\n",
        "    else:\n",
        "        return None\n",
        "\n",
        "def add_features(df):\n",
        "    df['LogFare'] = np.log1p(df['Fare'])\n",
        "    df['Deck'] = df.Cabin.str[0].map(dict(A=\"ABC\", B=\"ABC\", C=\"ABC\", D=\"DE\", E=\"DE\", F=\"FG\", G=\"FG\"))\n",
        "    df['Family'] = df.SibSp+df.Parch\n",
        "    df['Alone'] = df.Family==0\n",
        "    df['TicketFreq'] = df.groupby('Ticket')['Ticket'].transform('count')\n",
        "    df['Title'] = df.Name.str.split(', ', expand=True)[1].str.split('.', expand=True)[0]\n",
        "    df['Title'] = df.Title.map(dict(Mr=\"Mr\",Miss=\"Miss\",Mrs=\"Mrs\",Master=\"Master\"))\n",
        "    df['Passenger Type'] = df.apply(passenger_type, axis=1)\n",
        "\n",
        "add_features(data)\n",
        "\n",
        "def impute(df):\n",
        "  # impute passenger age using k-nearest neighbors\n",
        "  from sklearn.impute import KNNImputer\n",
        "\n",
        "  imputer = KNNImputer()\n",
        "  data_num = df.select_dtypes(include=[np.number])\n",
        "  imputer.fit(data_num)\n",
        "  data_new = imputer.transform(data_num)\n",
        "  df[\"Age\"] = data_new[:,3]\n",
        "\n",
        "  # impute embarkation point by mode\n",
        "  from sklearn.impute import SimpleImputer\n",
        "\n",
        "  s_imputer = SimpleImputer(strategy=\"most_frequent\")\n",
        "  s_imputer.fit(df)\n",
        "  data_new = s_imputer.transform(df)\n",
        "  df[\"Embarked\"] = data_new[:,3]\n",
        "  df[\"Title\"] = data_new[:,3]\n",
        "  df[\"Passenger Type\"] = data_new[:,3]\n",
        "\n",
        "\n",
        "impute(data)\n",
        "\n",
        "data.info()"
      ],
      "metadata": {
        "id": "JK3cNANR5kpo",
        "colab": {
          "base_uri": "https://localhost:8080/"
        },
        "outputId": "75637cbd-5fee-422a-bd5e-741190e0b635"
      },
      "execution_count": 34,
      "outputs": [
        {
          "output_type": "stream",
          "name": "stdout",
          "text": [
            "<class 'pandas.core.frame.DataFrame'>\n",
            "RangeIndex: 891 entries, 0 to 890\n",
            "Data columns (total 19 columns):\n",
            " #   Column          Non-Null Count  Dtype  \n",
            "---  ------          --------------  -----  \n",
            " 0   PassengerId     891 non-null    int64  \n",
            " 1   Survived        891 non-null    int64  \n",
            " 2   Pclass          891 non-null    int64  \n",
            " 3   Name            891 non-null    object \n",
            " 4   Sex             891 non-null    object \n",
            " 5   Age             891 non-null    float64\n",
            " 6   SibSp           891 non-null    int64  \n",
            " 7   Parch           891 non-null    int64  \n",
            " 8   Ticket          891 non-null    object \n",
            " 9   Fare            891 non-null    float64\n",
            " 10  Cabin           204 non-null    object \n",
            " 11  Embarked        891 non-null    object \n",
            " 12  LogFare         891 non-null    float64\n",
            " 13  Deck            203 non-null    object \n",
            " 14  Family          891 non-null    int64  \n",
            " 15  Alone           891 non-null    bool   \n",
            " 16  TicketFreq      891 non-null    int64  \n",
            " 17  Title           891 non-null    object \n",
            " 18  Passenger Type  891 non-null    object \n",
            "dtypes: bool(1), float64(3), int64(7), object(8)\n",
            "memory usage: 126.3+ KB\n"
          ]
        }
      ]
    },
    {
      "cell_type": "markdown",
      "source": [
        "#### Training\n",
        "\n",
        "For Training, I used the code from the fastAI lesson and added some additional columns to the categories. I used a learning rate of 0.1 as it was determined suitabkle by the lr_find() method."
      ],
      "metadata": {
        "id": "BXVScoCDm9Cm"
      }
    },
    {
      "cell_type": "code",
      "source": [
        "from fastai.tabular.all import *\n",
        "\n",
        "splits = RandomSplitter(seed=42)(data)\n",
        "\n",
        "dls = TabularPandas(\n",
        "    data, splits=splits,\n",
        "    procs = [Categorify, FillMissing, Normalize],\n",
        "    cat_names=[\"Sex\",\"Pclass\",\"Embarked\",\"Deck\", \"Title\", \"Passenger Type\"],\n",
        "    cont_names=['Age', 'SibSp', 'Parch', 'LogFare', 'Alone', 'TicketFreq', 'Family'],\n",
        "    y_names=\"Survived\", y_block = CategoryBlock(),\n",
        ").dataloaders(path=\".\")\n",
        "learn = tabular_learner(dls, metrics=accuracy, layers=[10,10])\n",
        "learn.lr_find(suggest_funcs=(slide, valley))"
      ],
      "metadata": {
        "colab": {
          "base_uri": "https://localhost:8080/",
          "height": 477
        },
        "id": "qLfKYrfUeMwx",
        "outputId": "c9593334-c405-48f1-ef18-9309ce781ec0"
      },
      "execution_count": 23,
      "outputs": [
        {
          "output_type": "display_data",
          "data": {
            "text/plain": [
              "<IPython.core.display.HTML object>"
            ],
            "text/html": [
              "\n",
              "<style>\n",
              "    /* Turns off some styling */\n",
              "    progress {\n",
              "        /* gets rid of default border in Firefox and Opera. */\n",
              "        border: none;\n",
              "        /* Needs to be in here for Safari polyfill so background images work as expected. */\n",
              "        background-size: auto;\n",
              "    }\n",
              "    progress:not([value]), progress:not([value])::-webkit-progress-bar {\n",
              "        background: repeating-linear-gradient(45deg, #7e7e7e, #7e7e7e 10px, #5c5c5c 10px, #5c5c5c 20px);\n",
              "    }\n",
              "    .progress-bar-interrupted, .progress-bar-interrupted::-webkit-progress-bar {\n",
              "        background: #F44336;\n",
              "    }\n",
              "</style>\n"
            ]
          },
          "metadata": {}
        },
        {
          "output_type": "display_data",
          "data": {
            "text/plain": [
              "<IPython.core.display.HTML object>"
            ],
            "text/html": []
          },
          "metadata": {}
        },
        {
          "output_type": "execute_result",
          "data": {
            "text/plain": [
              "SuggestedLRs(slide=0.17378008365631104, valley=0.013182567432522774)"
            ]
          },
          "metadata": {},
          "execution_count": 23
        },
        {
          "output_type": "display_data",
          "data": {
            "text/plain": [
              "<Figure size 640x480 with 1 Axes>"
            ],
            "image/png": "[encoded data removed]"
          },
          "metadata": {}
        }
      ]
    },
    {
      "cell_type": "code",
      "source": [
        "learn.fit(32, lr=0.1)"
      ],
      "metadata": {
        "colab": {
          "base_uri": "https://localhost:8080/",
          "height": 1000
        },
        "id": "D6QsgOeUSXo_",
        "outputId": "74fa0e00-95e8-4552-cf89-90814feec069"
      },
      "execution_count": 44,
      "outputs": [
        {
          "output_type": "display_data",
          "data": {
            "text/plain": [
              "<IPython.core.display.HTML object>"
            ],
            "text/html": [
              "\n",
              "<style>\n",
              "    /* Turns off some styling */\n",
              "    progress {\n",
              "        /* gets rid of default border in Firefox and Opera. */\n",
              "        border: none;\n",
              "        /* Needs to be in here for Safari polyfill so background images work as expected. */\n",
              "        background-size: auto;\n",
              "    }\n",
              "    progress:not([value]), progress:not([value])::-webkit-progress-bar {\n",
              "        background: repeating-linear-gradient(45deg, #7e7e7e, #7e7e7e 10px, #5c5c5c 10px, #5c5c5c 20px);\n",
              "    }\n",
              "    .progress-bar-interrupted, .progress-bar-interrupted::-webkit-progress-bar {\n",
              "        background: #F44336;\n",
              "    }\n",
              "</style>\n"
            ]
          },
          "metadata": {}
        },
        {
          "output_type": "display_data",
          "data": {
            "text/plain": [
              "<IPython.core.display.HTML object>"
            ],
            "text/html": [
              "<table border=\"1\" class=\"dataframe\">\n",
              "  <thead>\n",
              "    <tr style=\"text-align: left;\">\n",
              "      <th>epoch</th>\n",
              "      <th>train_loss</th>\n",
              "      <th>valid_loss</th>\n",
              "      <th>accuracy</th>\n",
              "      <th>time</th>\n",
              "    </tr>\n",
              "  </thead>\n",
              "  <tbody>\n",
              "    <tr>\n",
              "      <td>0</td>\n",
              "      <td>0.000019</td>\n",
              "      <td>0.802660</td>\n",
              "      <td>0.820225</td>\n",
              "      <td>00:00</td>\n",
              "    </tr>\n",
              "    <tr>\n",
              "      <td>1</td>\n",
              "      <td>0.000015</td>\n",
              "      <td>0.808959</td>\n",
              "      <td>0.820225</td>\n",
              "      <td>00:00</td>\n",
              "    </tr>\n",
              "    <tr>\n",
              "      <td>2</td>\n",
              "      <td>0.000024</td>\n",
              "      <td>0.811124</td>\n",
              "      <td>0.825843</td>\n",
              "      <td>00:00</td>\n",
              "    </tr>\n",
              "    <tr>\n",
              "      <td>3</td>\n",
              "      <td>0.000024</td>\n",
              "      <td>0.816605</td>\n",
              "      <td>0.820225</td>\n",
              "      <td>00:00</td>\n",
              "    </tr>\n",
              "    <tr>\n",
              "      <td>4</td>\n",
              "      <td>0.000021</td>\n",
              "      <td>0.830320</td>\n",
              "      <td>0.803371</td>\n",
              "      <td>00:00</td>\n",
              "    </tr>\n",
              "    <tr>\n",
              "      <td>5</td>\n",
              "      <td>0.000019</td>\n",
              "      <td>0.844696</td>\n",
              "      <td>0.797753</td>\n",
              "      <td>00:00</td>\n",
              "    </tr>\n",
              "    <tr>\n",
              "      <td>6</td>\n",
              "      <td>0.000020</td>\n",
              "      <td>0.827574</td>\n",
              "      <td>0.820225</td>\n",
              "      <td>00:00</td>\n",
              "    </tr>\n",
              "    <tr>\n",
              "      <td>7</td>\n",
              "      <td>0.000020</td>\n",
              "      <td>0.843012</td>\n",
              "      <td>0.820225</td>\n",
              "      <td>00:00</td>\n",
              "    </tr>\n",
              "    <tr>\n",
              "      <td>8</td>\n",
              "      <td>0.000018</td>\n",
              "      <td>0.860151</td>\n",
              "      <td>0.797753</td>\n",
              "      <td>00:00</td>\n",
              "    </tr>\n",
              "    <tr>\n",
              "      <td>9</td>\n",
              "      <td>0.000015</td>\n",
              "      <td>0.869265</td>\n",
              "      <td>0.803371</td>\n",
              "      <td>00:00</td>\n",
              "    </tr>\n",
              "    <tr>\n",
              "      <td>10</td>\n",
              "      <td>0.000015</td>\n",
              "      <td>0.863638</td>\n",
              "      <td>0.797753</td>\n",
              "      <td>00:00</td>\n",
              "    </tr>\n",
              "    <tr>\n",
              "      <td>11</td>\n",
              "      <td>0.000014</td>\n",
              "      <td>0.876301</td>\n",
              "      <td>0.803371</td>\n",
              "      <td>00:00</td>\n",
              "    </tr>\n",
              "    <tr>\n",
              "      <td>12</td>\n",
              "      <td>0.000017</td>\n",
              "      <td>0.871347</td>\n",
              "      <td>0.808989</td>\n",
              "      <td>00:00</td>\n",
              "    </tr>\n",
              "    <tr>\n",
              "      <td>13</td>\n",
              "      <td>0.000015</td>\n",
              "      <td>0.881212</td>\n",
              "      <td>0.808989</td>\n",
              "      <td>00:00</td>\n",
              "    </tr>\n",
              "    <tr>\n",
              "      <td>14</td>\n",
              "      <td>0.000015</td>\n",
              "      <td>0.904154</td>\n",
              "      <td>0.808989</td>\n",
              "      <td>00:00</td>\n",
              "    </tr>\n",
              "    <tr>\n",
              "      <td>15</td>\n",
              "      <td>0.000013</td>\n",
              "      <td>0.898494</td>\n",
              "      <td>0.825843</td>\n",
              "      <td>00:00</td>\n",
              "    </tr>\n",
              "    <tr>\n",
              "      <td>16</td>\n",
              "      <td>0.000013</td>\n",
              "      <td>0.913433</td>\n",
              "      <td>0.792135</td>\n",
              "      <td>00:00</td>\n",
              "    </tr>\n",
              "    <tr>\n",
              "      <td>17</td>\n",
              "      <td>0.000015</td>\n",
              "      <td>0.906021</td>\n",
              "      <td>0.825843</td>\n",
              "      <td>00:00</td>\n",
              "    </tr>\n",
              "    <tr>\n",
              "      <td>18</td>\n",
              "      <td>0.000019</td>\n",
              "      <td>1.143169</td>\n",
              "      <td>0.780899</td>\n",
              "      <td>00:00</td>\n",
              "    </tr>\n",
              "    <tr>\n",
              "      <td>19</td>\n",
              "      <td>0.000016</td>\n",
              "      <td>1.319401</td>\n",
              "      <td>0.780899</td>\n",
              "      <td>00:00</td>\n",
              "    </tr>\n",
              "    <tr>\n",
              "      <td>20</td>\n",
              "      <td>0.000014</td>\n",
              "      <td>1.352177</td>\n",
              "      <td>0.786517</td>\n",
              "      <td>00:00</td>\n",
              "    </tr>\n",
              "    <tr>\n",
              "      <td>21</td>\n",
              "      <td>0.000012</td>\n",
              "      <td>1.295995</td>\n",
              "      <td>0.780899</td>\n",
              "      <td>00:00</td>\n",
              "    </tr>\n",
              "    <tr>\n",
              "      <td>22</td>\n",
              "      <td>0.000011</td>\n",
              "      <td>1.255265</td>\n",
              "      <td>0.786517</td>\n",
              "      <td>00:00</td>\n",
              "    </tr>\n",
              "    <tr>\n",
              "      <td>23</td>\n",
              "      <td>0.000009</td>\n",
              "      <td>1.287020</td>\n",
              "      <td>0.786517</td>\n",
              "      <td>00:00</td>\n",
              "    </tr>\n",
              "    <tr>\n",
              "      <td>24</td>\n",
              "      <td>0.000008</td>\n",
              "      <td>1.269660</td>\n",
              "      <td>0.786517</td>\n",
              "      <td>00:00</td>\n",
              "    </tr>\n",
              "    <tr>\n",
              "      <td>25</td>\n",
              "      <td>0.000007</td>\n",
              "      <td>1.265944</td>\n",
              "      <td>0.786517</td>\n",
              "      <td>00:00</td>\n",
              "    </tr>\n",
              "    <tr>\n",
              "      <td>26</td>\n",
              "      <td>0.000006</td>\n",
              "      <td>1.244000</td>\n",
              "      <td>0.786517</td>\n",
              "      <td>00:00</td>\n",
              "    </tr>\n",
              "    <tr>\n",
              "      <td>27</td>\n",
              "      <td>0.000005</td>\n",
              "      <td>1.266294</td>\n",
              "      <td>0.786517</td>\n",
              "      <td>00:00</td>\n",
              "    </tr>\n",
              "    <tr>\n",
              "      <td>28</td>\n",
              "      <td>0.000006</td>\n",
              "      <td>1.207781</td>\n",
              "      <td>0.786517</td>\n",
              "      <td>00:00</td>\n",
              "    </tr>\n",
              "    <tr>\n",
              "      <td>29</td>\n",
              "      <td>0.000005</td>\n",
              "      <td>1.203583</td>\n",
              "      <td>0.786517</td>\n",
              "      <td>00:00</td>\n",
              "    </tr>\n",
              "    <tr>\n",
              "      <td>30</td>\n",
              "      <td>0.000005</td>\n",
              "      <td>1.220769</td>\n",
              "      <td>0.775281</td>\n",
              "      <td>00:00</td>\n",
              "    </tr>\n",
              "    <tr>\n",
              "      <td>31</td>\n",
              "      <td>0.000007</td>\n",
              "      <td>1.092721</td>\n",
              "      <td>0.803371</td>\n",
              "      <td>00:00</td>\n",
              "    </tr>\n",
              "  </tbody>\n",
              "</table>"
            ]
          },
          "metadata": {}
        }
      ]
    },
    {
      "cell_type": "markdown",
      "source": [
        "#### Testing\n",
        "\n",
        "For testing, I prepared the data just as the training data using the defined method add_features and impute. The learner took care of the rest of data preparation.\n",
        "\n",
        "I submitted results for both a single trained model as well as a ensemble model, which averaged the predictions over 8 models.\n",
        "\n",
        "The single model scored an accuracy of 72 %, while the ensemble scored an accuracy of 73 %. The ensemble model score is still worse than a single TLU i trained on Learning Portfolio 3. I believe it is because the data preparation was not quite as good as my SKLearn-Pipeline in Assignment 3.\n"
      ],
      "metadata": {
        "id": "n_XYd6hRW-5F"
      }
    },
    {
      "cell_type": "code",
      "source": [
        "tst_df = pd.read_csv(\"/content/drive/My Drive/SE_Digital_Organizations/titanic_test.csv\")\n",
        "tst_df['Fare'] = tst_df.Fare.fillna(0)\n",
        "add_features(tst_df)\n",
        "impute(tst_df)\n",
        "\n",
        "tst_dl = learn.dls.test_dl(tst_df)\n",
        "\n"
      ],
      "metadata": {
        "id": "j9ykK2Y4h_mf"
      },
      "execution_count": 35,
      "outputs": []
    },
    {
      "cell_type": "code",
      "source": [
        "preds,_ = learn.get_preds(dl=tst_dl)"
      ],
      "metadata": {
        "colab": {
          "base_uri": "https://localhost:8080/",
          "height": 17
        },
        "id": "SNGKKswxlpsP",
        "outputId": "f6b82f71-a32c-4f72-c62d-68d60f510481"
      },
      "execution_count": 45,
      "outputs": [
        {
          "output_type": "display_data",
          "data": {
            "text/plain": [
              "<IPython.core.display.HTML object>"
            ],
            "text/html": [
              "\n",
              "<style>\n",
              "    /* Turns off some styling */\n",
              "    progress {\n",
              "        /* gets rid of default border in Firefox and Opera. */\n",
              "        border: none;\n",
              "        /* Needs to be in here for Safari polyfill so background images work as expected. */\n",
              "        background-size: auto;\n",
              "    }\n",
              "    progress:not([value]), progress:not([value])::-webkit-progress-bar {\n",
              "        background: repeating-linear-gradient(45deg, #7e7e7e, #7e7e7e 10px, #5c5c5c 10px, #5c5c5c 20px);\n",
              "    }\n",
              "    .progress-bar-interrupted, .progress-bar-interrupted::-webkit-progress-bar {\n",
              "        background: #F44336;\n",
              "    }\n",
              "</style>\n"
            ]
          },
          "metadata": {}
        },
        {
          "output_type": "display_data",
          "data": {
            "text/plain": [
              "<IPython.core.display.HTML object>"
            ],
            "text/html": []
          },
          "metadata": {}
        }
      ]
    },
    {
      "cell_type": "code",
      "source": [
        "tst_df['Survived'] = (preds[:,1]>0.5).int()\n",
        "sub_df = tst_df[['PassengerId','Survived']]\n",
        "sub_df.to_csv('/content/drive/My Drive/SE_Digital_Organizations/single_preds.csv', index=False)"
      ],
      "metadata": {
        "id": "QMBcSiOHlvNu"
      },
      "execution_count": 46,
      "outputs": []
    },
    {
      "cell_type": "code",
      "source": [
        "def ensemble():\n",
        "    learn = tabular_learner(dls, metrics=accuracy, layers=[10,10])\n",
        "    with learn.no_bar(),learn.no_logging(): learn.fit(10, lr=0.1)\n",
        "    return learn.get_preds(dl=tst_dl)[0]"
      ],
      "metadata": {
        "id": "CulJf3Qlhp7j"
      },
      "execution_count": 40,
      "outputs": []
    },
    {
      "cell_type": "code",
      "source": [
        "learns = [ensemble() for _ in range(8)]"
      ],
      "metadata": {
        "colab": {
          "base_uri": "https://localhost:8080/",
          "height": 17
        },
        "id": "c2kduMEmjGGd",
        "outputId": "a0ffd85e-fec9-4f28-93ae-e354c212d9df"
      },
      "execution_count": 41,
      "outputs": [
        {
          "output_type": "display_data",
          "data": {
            "text/plain": [
              "<IPython.core.display.HTML object>"
            ],
            "text/html": [
              "\n",
              "<style>\n",
              "    /* Turns off some styling */\n",
              "    progress {\n",
              "        /* gets rid of default border in Firefox and Opera. */\n",
              "        border: none;\n",
              "        /* Needs to be in here for Safari polyfill so background images work as expected. */\n",
              "        background-size: auto;\n",
              "    }\n",
              "    progress:not([value]), progress:not([value])::-webkit-progress-bar {\n",
              "        background: repeating-linear-gradient(45deg, #7e7e7e, #7e7e7e 10px, #5c5c5c 10px, #5c5c5c 20px);\n",
              "    }\n",
              "    .progress-bar-interrupted, .progress-bar-interrupted::-webkit-progress-bar {\n",
              "        background: #F44336;\n",
              "    }\n",
              "</style>\n"
            ]
          },
          "metadata": {}
        },
        {
          "output_type": "display_data",
          "data": {
            "text/plain": [
              "<IPython.core.display.HTML object>"
            ],
            "text/html": []
          },
          "metadata": {}
        },
        {
          "output_type": "display_data",
          "data": {
            "text/plain": [
              "<IPython.core.display.HTML object>"
            ],
            "text/html": [
              "\n",
              "<style>\n",
              "    /* Turns off some styling */\n",
              "    progress {\n",
              "        /* gets rid of default border in Firefox and Opera. */\n",
              "        border: none;\n",
              "        /* Needs to be in here for Safari polyfill so background images work as expected. */\n",
              "        background-size: auto;\n",
              "    }\n",
              "    progress:not([value]), progress:not([value])::-webkit-progress-bar {\n",
              "        background: repeating-linear-gradient(45deg, #7e7e7e, #7e7e7e 10px, #5c5c5c 10px, #5c5c5c 20px);\n",
              "    }\n",
              "    .progress-bar-interrupted, .progress-bar-interrupted::-webkit-progress-bar {\n",
              "        background: #F44336;\n",
              "    }\n",
              "</style>\n"
            ]
          },
          "metadata": {}
        },
        {
          "output_type": "display_data",
          "data": {
            "text/plain": [
              "<IPython.core.display.HTML object>"
            ],
            "text/html": []
          },
          "metadata": {}
        },
        {
          "output_type": "display_data",
          "data": {
            "text/plain": [
              "<IPython.core.display.HTML object>"
            ],
            "text/html": [
              "\n",
              "<style>\n",
              "    /* Turns off some styling */\n",
              "    progress {\n",
              "        /* gets rid of default border in Firefox and Opera. */\n",
              "        border: none;\n",
              "        /* Needs to be in here for Safari polyfill so background images work as expected. */\n",
              "        background-size: auto;\n",
              "    }\n",
              "    progress:not([value]), progress:not([value])::-webkit-progress-bar {\n",
              "        background: repeating-linear-gradient(45deg, #7e7e7e, #7e7e7e 10px, #5c5c5c 10px, #5c5c5c 20px);\n",
              "    }\n",
              "    .progress-bar-interrupted, .progress-bar-interrupted::-webkit-progress-bar {\n",
              "        background: #F44336;\n",
              "    }\n",
              "</style>\n"
            ]
          },
          "metadata": {}
        },
        {
          "output_type": "display_data",
          "data": {
            "text/plain": [
              "<IPython.core.display.HTML object>"
            ],
            "text/html": []
          },
          "metadata": {}
        },
        {
          "output_type": "display_data",
          "data": {
            "text/plain": [
              "<IPython.core.display.HTML object>"
            ],
            "text/html": [
              "\n",
              "<style>\n",
              "    /* Turns off some styling */\n",
              "    progress {\n",
              "        /* gets rid of default border in Firefox and Opera. */\n",
              "        border: none;\n",
              "        /* Needs to be in here for Safari polyfill so background images work as expected. */\n",
              "        background-size: auto;\n",
              "    }\n",
              "    progress:not([value]), progress:not([value])::-webkit-progress-bar {\n",
              "        background: repeating-linear-gradient(45deg, #7e7e7e, #7e7e7e 10px, #5c5c5c 10px, #5c5c5c 20px);\n",
              "    }\n",
              "    .progress-bar-interrupted, .progress-bar-interrupted::-webkit-progress-bar {\n",
              "        background: #F44336;\n",
              "    }\n",
              "</style>\n"
            ]
          },
          "metadata": {}
        },
        {
          "output_type": "display_data",
          "data": {
            "text/plain": [
              "<IPython.core.display.HTML object>"
            ],
            "text/html": []
          },
          "metadata": {}
        },
        {
          "output_type": "display_data",
          "data": {
            "text/plain": [
              "<IPython.core.display.HTML object>"
            ],
            "text/html": [
              "\n",
              "<style>\n",
              "    /* Turns off some styling */\n",
              "    progress {\n",
              "        /* gets rid of default border in Firefox and Opera. */\n",
              "        border: none;\n",
              "        /* Needs to be in here for Safari polyfill so background images work as expected. */\n",
              "        background-size: auto;\n",
              "    }\n",
              "    progress:not([value]), progress:not([value])::-webkit-progress-bar {\n",
              "        background: repeating-linear-gradient(45deg, #7e7e7e, #7e7e7e 10px, #5c5c5c 10px, #5c5c5c 20px);\n",
              "    }\n",
              "    .progress-bar-interrupted, .progress-bar-interrupted::-webkit-progress-bar {\n",
              "        background: #F44336;\n",
              "    }\n",
              "</style>\n"
            ]
          },
          "metadata": {}
        },
        {
          "output_type": "display_data",
          "data": {
            "text/plain": [
              "<IPython.core.display.HTML object>"
            ],
            "text/html": []
          },
          "metadata": {}
        },
        {
          "output_type": "display_data",
          "data": {
            "text/plain": [
              "<IPython.core.display.HTML object>"
            ],
            "text/html": [
              "\n",
              "<style>\n",
              "    /* Turns off some styling */\n",
              "    progress {\n",
              "        /* gets rid of default border in Firefox and Opera. */\n",
              "        border: none;\n",
              "        /* Needs to be in here for Safari polyfill so background images work as expected. */\n",
              "        background-size: auto;\n",
              "    }\n",
              "    progress:not([value]), progress:not([value])::-webkit-progress-bar {\n",
              "        background: repeating-linear-gradient(45deg, #7e7e7e, #7e7e7e 10px, #5c5c5c 10px, #5c5c5c 20px);\n",
              "    }\n",
              "    .progress-bar-interrupted, .progress-bar-interrupted::-webkit-progress-bar {\n",
              "        background: #F44336;\n",
              "    }\n",
              "</style>\n"
            ]
          },
          "metadata": {}
        },
        {
          "output_type": "display_data",
          "data": {
            "text/plain": [
              "<IPython.core.display.HTML object>"
            ],
            "text/html": []
          },
          "metadata": {}
        },
        {
          "output_type": "display_data",
          "data": {
            "text/plain": [
              "<IPython.core.display.HTML object>"
            ],
            "text/html": [
              "\n",
              "<style>\n",
              "    /* Turns off some styling */\n",
              "    progress {\n",
              "        /* gets rid of default border in Firefox and Opera. */\n",
              "        border: none;\n",
              "        /* Needs to be in here for Safari polyfill so background images work as expected. */\n",
              "        background-size: auto;\n",
              "    }\n",
              "    progress:not([value]), progress:not([value])::-webkit-progress-bar {\n",
              "        background: repeating-linear-gradient(45deg, #7e7e7e, #7e7e7e 10px, #5c5c5c 10px, #5c5c5c 20px);\n",
              "    }\n",
              "    .progress-bar-interrupted, .progress-bar-interrupted::-webkit-progress-bar {\n",
              "        background: #F44336;\n",
              "    }\n",
              "</style>\n"
            ]
          },
          "metadata": {}
        },
        {
          "output_type": "display_data",
          "data": {
            "text/plain": [
              "<IPython.core.display.HTML object>"
            ],
            "text/html": []
          },
          "metadata": {}
        },
        {
          "output_type": "display_data",
          "data": {
            "text/plain": [
              "<IPython.core.display.HTML object>"
            ],
            "text/html": [
              "\n",
              "<style>\n",
              "    /* Turns off some styling */\n",
              "    progress {\n",
              "        /* gets rid of default border in Firefox and Opera. */\n",
              "        border: none;\n",
              "        /* Needs to be in here for Safari polyfill so background images work as expected. */\n",
              "        background-size: auto;\n",
              "    }\n",
              "    progress:not([value]), progress:not([value])::-webkit-progress-bar {\n",
              "        background: repeating-linear-gradient(45deg, #7e7e7e, #7e7e7e 10px, #5c5c5c 10px, #5c5c5c 20px);\n",
              "    }\n",
              "    .progress-bar-interrupted, .progress-bar-interrupted::-webkit-progress-bar {\n",
              "        background: #F44336;\n",
              "    }\n",
              "</style>\n"
            ]
          },
          "metadata": {}
        },
        {
          "output_type": "display_data",
          "data": {
            "text/plain": [
              "<IPython.core.display.HTML object>"
            ],
            "text/html": []
          },
          "metadata": {}
        }
      ]
    },
    {
      "cell_type": "code",
      "source": [
        "ens_preds = torch.stack(learns).mean(0)"
      ],
      "metadata": {
        "id": "A9l8pebjjNIb"
      },
      "execution_count": 42,
      "outputs": []
    },
    {
      "cell_type": "code",
      "source": [
        "tst_df['Survived'] = (ens_preds[:,1]>0.5).int()\n",
        "sub_df = tst_df[['PassengerId','Survived']]\n",
        "sub_df.to_csv(\"/content/drive/My Drive/SE_Digital_Organizations/ensemble_preds.csv\", index=False)"
      ],
      "metadata": {
        "id": "ZmmuwhTXjRdU"
      },
      "execution_count": 43,
      "outputs": []
    },
    {
      "cell_type": "markdown",
      "source": [
        "![grafik.png](data:image/png;base64,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)"
      ],
      "metadata": {
        "id": "3bbaAcYWmM5x"
      }
    }
  ]
}
