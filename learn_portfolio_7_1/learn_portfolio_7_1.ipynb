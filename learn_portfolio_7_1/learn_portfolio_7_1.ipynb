{
  "metadata": {
    "kernelspec": {
      "language": "python",
      "display_name": "Python 3",
      "name": "python3"
    },
    "language_info": {
      "name": "python",
      "version": "3.7.12",
      "mimetype": "text/x-python",
      "codemirror_mode": {
        "name": "ipython",
        "version": 3
      },
      "pygments_lexer": "ipython3",
      "nbconvert_exporter": "python",
      "file_extension": ".py"
    },
    "colab": {
      "provenance": [],
      "include_colab_link": true
    }
  },
  "nbformat_minor": 0,
  "nbformat": 4,
  "cells": [
    {
      "cell_type": "markdown",
      "metadata": {
        "id": "view-in-github",
        "colab_type": "text"
      },
      "source": [
        "<a href=\"https://colab.research.google.com/github/leukschrauber/LearningPortfolio/blob/main/learn_portfolio_7_1.ipynb\" target=\"_parent\"><img src=\"https://colab.research.google.com/assets/colab-badge.svg\" alt=\"Open In Colab\"/></a>"
      ]
    },
    {
      "cell_type": "markdown",
      "source": [
        "# Learning Portfolio\n",
        "\n",
        "*by Fabian Leuk (csba6437/12215478)*\n",
        "\n",
        "## Session 7: Collaborative Filtering"
      ],
      "metadata": {
        "id": "zpswrU_LereW"
      }
    },
    {
      "cell_type": "markdown",
      "source": [
        "### Key Learnings\n",
        "\n",
        "\n",
        "**Collaborative filtering**\n",
        "\n",
        "*   Collaborative filtering is a technique used in Recommender Systems, so that past similar preferences of users inform future preferences. It works by displaying the preferences of each user in a vector. The similarity between users is measured as cosine similarity. Computed cosine similarity in turn can be used as weights for the ratings of other users to predict a rating for a certain user.\n",
        "*  Generally, collaborative filtering is a matrix completion problem.\n",
        "*  User and item biases, embedding distances and principal component analysises are ways to interpret collaborative filterings results.\n",
        "*  Collaborative filtering models are trained using latent factors of movies and users.\n",
        "\n",
        "**Limitations of collaborative filtering**\n",
        "\n",
        "* One problem of collaborative filtering is the grey sheep problem, where a user has similarities with different types of users and can not be clearly matched to one of the groups. Predicting ratings using user metadata can help in these cases.\n",
        "* One problem of collaborative filtering is the black sheep problem, where a user has no similarities with other users. Predicting ratings using user metadata can help in these cases.\n",
        "* One problem of collaborative filtering is Matrix sparsity, where very few users actually rate products. In such cases, user actions on those items (views, etc.) can be used to predict ratings.\n",
        "* As embedding matrices can become quite huge in real life scenarios, lots of computation power may be needed. Usual methods such a batching and gradient accumulation can be used to mitigate this.\n",
        "* Certain subgroups overrepresenting the user base can introduce bias to the ratings. This bias in turn attracts more users of the group and the bias becomes stronger. Monitoring the system involving humans is required to solve this issue.\n",
        "* The bootstrapping problem is related to the fact that new items and users do not have every rating. One solution to the problem is to user item or user metadata to predict initial ratings and replace those ratings over time.\n",
        "\n",
        "**Machine Learning General Concepts**\n",
        "\n",
        "* Overfitting of models can be mitigated using L2 Regularization where a penalty is imposed proportionally to current parameter estimations to the loss function.\n",
        "* Gradient Accumulation can be used to decrease batch sizes and still train as if higher batch sizes would have been processed. This is relevant for decreasing GPU memory usage.\n",
        "* Rule of thumb: Dividing the batch size by two should result in a reduction of the learning rate by 2.\n",
        "* Softmax is the exponentiated prediction of the model divided by the sum of exponentiated predictions over every class. It is best suitable for models where exactly one class should be predicted as the output\n",
        "* Cross entropy is the log of the softmax output for the actual prediction category\n",
        "* Multi-target models work by calculating different losses for the outputs standing for the respective targets and adding them together. The training will then as usual tweak weights to reduce the loss.\n",
        "* A Dot Product is the sum of the multiplication of two vectors\n",
        "* A look-up can be depicted as a multiplication of a vector and a one-hot encoded matrix.\n",
        "\n",
        "**Python Librariers**\n",
        "\n",
        "* How to merge two dataframes\n",
        "* How to use CollabLearner and CollabDataLoaders\n",
        "* How to include L2 Regularization in CollabLearner\n",
        "* How to define Modules\n",
        "* How to use Sigmoid to squash values in custom ranges\n",
        "* How to cross-tabulate a pandas dataframe\n"
      ],
      "metadata": {
        "id": "xlcTtitL5M-u"
      }
    },
    {
      "cell_type": "markdown",
      "source": [
        "### Collaborative filtering Code"
      ],
      "metadata": {
        "id": "PazSMx9P2AJ8"
      }
    },
    {
      "cell_type": "code",
      "source": [
        "from fastai.collab import *\n",
        "from fastai.tabular.all import *\n",
        "set_seed(42)"
      ],
      "metadata": {
        "execution": {
          "iopub.status.busy": "2022-06-27T22:34:53.713771Z",
          "iopub.execute_input": "2022-06-27T22:34:53.714291Z",
          "iopub.status.idle": "2022-06-27T22:34:58.125346Z",
          "shell.execute_reply.started": "2022-06-27T22:34:53.714191Z",
          "shell.execute_reply": "2022-06-27T22:34:58.123923Z"
        },
        "trusted": true,
        "id": "--uXIcRrejuw"
      },
      "execution_count": 1,
      "outputs": []
    },
    {
      "cell_type": "code",
      "source": [
        "path = untar_data(URLs.ML_100k)\n",
        "\n",
        "ratings = pd.read_csv(path/'u.data', delimiter='\\t', header=None,\n",
        "                      names=['user','movie','rating','timestamp'])\n",
        "\n",
        "movies = pd.read_csv(path/'u.item',  delimiter='|', encoding='latin-1',\n",
        "                     usecols=(0,1), names=('movie','title'), header=None)\n",
        "\n",
        "ratings = ratings.merge(movies)\n",
        "\n",
        "dls = CollabDataLoaders.from_df(ratings, item_name='title', bs=64)"
      ],
      "metadata": {
        "id": "m0MpgyXI2O9l"
      },
      "execution_count": 2,
      "outputs": []
    },
    {
      "cell_type": "markdown",
      "source": [
        "#### From Scratch"
      ],
      "metadata": {
        "id": "PgwNfl0x2HRm"
      }
    },
    {
      "cell_type": "code",
      "source": [
        "class DotProductBias(Module):\n",
        "    def __init__(self, n_users, n_movies, n_factors, y_range=(0,5.5)):\n",
        "        self.user_factors = Embedding(n_users, n_factors)\n",
        "        self.user_bias = Embedding(n_users, 1)\n",
        "        self.movie_factors = Embedding(n_movies, n_factors)\n",
        "        self.movie_bias = Embedding(n_movies, 1)\n",
        "        self.y_range = y_range\n",
        "        \n",
        "    def forward(self, x):\n",
        "        users = self.user_factors(x[:,0])\n",
        "        movies = self.movie_factors(x[:,1])\n",
        "        res = (users * movies).sum(dim=1, keepdim=True)\n",
        "        res += self.user_bias(x[:,0]) + self.movie_bias(x[:,1])\n",
        "        return sigmoid_range(res, *self.y_range)"
      ],
      "metadata": {
        "id": "Huz3dHTT2zZJ"
      },
      "execution_count": 3,
      "outputs": []
    },
    {
      "cell_type": "code",
      "source": [
        "model = DotProductBias(len(dls.classes['user']), len(dls.classes['title']), 50)\n",
        "learn = Learner(dls, model, loss_func=MSELossFlat())\n",
        "learn.fit_one_cycle(5, 5e-3, wd=0.1)"
      ],
      "metadata": {
        "colab": {
          "base_uri": "https://localhost:8080/",
          "height": 206
        },
        "id": "gIl0KRgZ3C0i",
        "outputId": "25940b4a-a83b-4e67-b88b-22dda7d56527"
      },
      "execution_count": 4,
      "outputs": [
        {
          "output_type": "display_data",
          "data": {
            "text/plain": [
              "<IPython.core.display.HTML object>"
            ],
            "text/html": [
              "\n",
              "<style>\n",
              "    /* Turns off some styling */\n",
              "    progress {\n",
              "        /* gets rid of default border in Firefox and Opera. */\n",
              "        border: none;\n",
              "        /* Needs to be in here for Safari polyfill so background images work as expected. */\n",
              "        background-size: auto;\n",
              "    }\n",
              "    progress:not([value]), progress:not([value])::-webkit-progress-bar {\n",
              "        background: repeating-linear-gradient(45deg, #7e7e7e, #7e7e7e 10px, #5c5c5c 10px, #5c5c5c 20px);\n",
              "    }\n",
              "    .progress-bar-interrupted, .progress-bar-interrupted::-webkit-progress-bar {\n",
              "        background: #F44336;\n",
              "    }\n",
              "</style>\n"
            ]
          },
          "metadata": {}
        },
        {
          "output_type": "display_data",
          "data": {
            "text/plain": [
              "<IPython.core.display.HTML object>"
            ],
            "text/html": [
              "<table border=\"1\" class=\"dataframe\">\n",
              "  <thead>\n",
              "    <tr style=\"text-align: left;\">\n",
              "      <th>epoch</th>\n",
              "      <th>train_loss</th>\n",
              "      <th>valid_loss</th>\n",
              "      <th>time</th>\n",
              "    </tr>\n",
              "  </thead>\n",
              "  <tbody>\n",
              "    <tr>\n",
              "      <td>0</td>\n",
              "      <td>0.938159</td>\n",
              "      <td>0.958896</td>\n",
              "      <td>00:08</td>\n",
              "    </tr>\n",
              "    <tr>\n",
              "      <td>1</td>\n",
              "      <td>0.866531</td>\n",
              "      <td>0.877066</td>\n",
              "      <td>00:07</td>\n",
              "    </tr>\n",
              "    <tr>\n",
              "      <td>2</td>\n",
              "      <td>0.747698</td>\n",
              "      <td>0.831983</td>\n",
              "      <td>00:08</td>\n",
              "    </tr>\n",
              "    <tr>\n",
              "      <td>3</td>\n",
              "      <td>0.593823</td>\n",
              "      <td>0.820023</td>\n",
              "      <td>00:07</td>\n",
              "    </tr>\n",
              "    <tr>\n",
              "      <td>4</td>\n",
              "      <td>0.493328</td>\n",
              "      <td>0.820173</td>\n",
              "      <td>00:09</td>\n",
              "    </tr>\n",
              "  </tbody>\n",
              "</table>"
            ]
          },
          "metadata": {}
        }
      ]
    },
    {
      "cell_type": "markdown",
      "source": [
        "#### Using Collab Learner"
      ],
      "metadata": {
        "id": "HO-3jfez4SnS"
      }
    },
    {
      "cell_type": "code",
      "source": [
        "learn = collab_learner(dls, n_factors=50, y_range=(0, 5.5))\n",
        "learn.fit_one_cycle(5, 5e-3, wd=0.1)"
      ],
      "metadata": {
        "colab": {
          "base_uri": "https://localhost:8080/",
          "height": 206
        },
        "id": "e4AB-53I4Uw2",
        "outputId": "f3ed3dfa-cb32-4bd7-e910-5deb81a9adcc"
      },
      "execution_count": 5,
      "outputs": [
        {
          "output_type": "display_data",
          "data": {
            "text/plain": [
              "<IPython.core.display.HTML object>"
            ],
            "text/html": [
              "\n",
              "<style>\n",
              "    /* Turns off some styling */\n",
              "    progress {\n",
              "        /* gets rid of default border in Firefox and Opera. */\n",
              "        border: none;\n",
              "        /* Needs to be in here for Safari polyfill so background images work as expected. */\n",
              "        background-size: auto;\n",
              "    }\n",
              "    progress:not([value]), progress:not([value])::-webkit-progress-bar {\n",
              "        background: repeating-linear-gradient(45deg, #7e7e7e, #7e7e7e 10px, #5c5c5c 10px, #5c5c5c 20px);\n",
              "    }\n",
              "    .progress-bar-interrupted, .progress-bar-interrupted::-webkit-progress-bar {\n",
              "        background: #F44336;\n",
              "    }\n",
              "</style>\n"
            ]
          },
          "metadata": {}
        },
        {
          "output_type": "display_data",
          "data": {
            "text/plain": [
              "<IPython.core.display.HTML object>"
            ],
            "text/html": [
              "<table border=\"1\" class=\"dataframe\">\n",
              "  <thead>\n",
              "    <tr style=\"text-align: left;\">\n",
              "      <th>epoch</th>\n",
              "      <th>train_loss</th>\n",
              "      <th>valid_loss</th>\n",
              "      <th>time</th>\n",
              "    </tr>\n",
              "  </thead>\n",
              "  <tbody>\n",
              "    <tr>\n",
              "      <td>0</td>\n",
              "      <td>0.931108</td>\n",
              "      <td>0.947211</td>\n",
              "      <td>00:08</td>\n",
              "    </tr>\n",
              "    <tr>\n",
              "      <td>1</td>\n",
              "      <td>0.845715</td>\n",
              "      <td>0.877910</td>\n",
              "      <td>00:08</td>\n",
              "    </tr>\n",
              "    <tr>\n",
              "      <td>2</td>\n",
              "      <td>0.732135</td>\n",
              "      <td>0.835817</td>\n",
              "      <td>00:07</td>\n",
              "    </tr>\n",
              "    <tr>\n",
              "      <td>3</td>\n",
              "      <td>0.598224</td>\n",
              "      <td>0.824254</td>\n",
              "      <td>00:08</td>\n",
              "    </tr>\n",
              "    <tr>\n",
              "      <td>4</td>\n",
              "      <td>0.490251</td>\n",
              "      <td>0.824255</td>\n",
              "      <td>00:08</td>\n",
              "    </tr>\n",
              "  </tbody>\n",
              "</table>"
            ]
          },
          "metadata": {}
        }
      ]
    },
    {
      "cell_type": "markdown",
      "source": [
        "#### Using Neural Network"
      ],
      "metadata": {
        "id": "wsYSdAve4XLA"
      }
    },
    {
      "cell_type": "code",
      "source": [
        "learn = collab_learner(dls, use_nn=True, y_range=(0, 5.5), layers=[100,50])\n",
        "learn.fit_one_cycle(5, 5e-3, wd=0.1)"
      ],
      "metadata": {
        "colab": {
          "base_uri": "https://localhost:8080/",
          "height": 206
        },
        "id": "0IlNuP4z4a-6",
        "outputId": "489818e4-9474-4dc8-c711-4da5458f8b5c"
      },
      "execution_count": 6,
      "outputs": [
        {
          "output_type": "display_data",
          "data": {
            "text/plain": [
              "<IPython.core.display.HTML object>"
            ],
            "text/html": [
              "\n",
              "<style>\n",
              "    /* Turns off some styling */\n",
              "    progress {\n",
              "        /* gets rid of default border in Firefox and Opera. */\n",
              "        border: none;\n",
              "        /* Needs to be in here for Safari polyfill so background images work as expected. */\n",
              "        background-size: auto;\n",
              "    }\n",
              "    progress:not([value]), progress:not([value])::-webkit-progress-bar {\n",
              "        background: repeating-linear-gradient(45deg, #7e7e7e, #7e7e7e 10px, #5c5c5c 10px, #5c5c5c 20px);\n",
              "    }\n",
              "    .progress-bar-interrupted, .progress-bar-interrupted::-webkit-progress-bar {\n",
              "        background: #F44336;\n",
              "    }\n",
              "</style>\n"
            ]
          },
          "metadata": {}
        },
        {
          "output_type": "display_data",
          "data": {
            "text/plain": [
              "<IPython.core.display.HTML object>"
            ],
            "text/html": [
              "<table border=\"1\" class=\"dataframe\">\n",
              "  <thead>\n",
              "    <tr style=\"text-align: left;\">\n",
              "      <th>epoch</th>\n",
              "      <th>train_loss</th>\n",
              "      <th>valid_loss</th>\n",
              "      <th>time</th>\n",
              "    </tr>\n",
              "  </thead>\n",
              "  <tbody>\n",
              "    <tr>\n",
              "      <td>0</td>\n",
              "      <td>0.962253</td>\n",
              "      <td>0.998203</td>\n",
              "      <td>00:10</td>\n",
              "    </tr>\n",
              "    <tr>\n",
              "      <td>1</td>\n",
              "      <td>0.935017</td>\n",
              "      <td>0.915465</td>\n",
              "      <td>00:10</td>\n",
              "    </tr>\n",
              "    <tr>\n",
              "      <td>2</td>\n",
              "      <td>0.884734</td>\n",
              "      <td>0.892936</td>\n",
              "      <td>00:10</td>\n",
              "    </tr>\n",
              "    <tr>\n",
              "      <td>3</td>\n",
              "      <td>0.859502</td>\n",
              "      <td>0.872788</td>\n",
              "      <td>00:10</td>\n",
              "    </tr>\n",
              "    <tr>\n",
              "      <td>4</td>\n",
              "      <td>0.758970</td>\n",
              "      <td>0.869513</td>\n",
              "      <td>00:10</td>\n",
              "    </tr>\n",
              "  </tbody>\n",
              "</table>"
            ]
          },
          "metadata": {}
        }
      ]
    }
  ]
}
